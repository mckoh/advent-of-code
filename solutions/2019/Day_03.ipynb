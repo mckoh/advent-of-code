{
 "cells": [
  {
   "cell_type": "markdown",
   "metadata": {},
   "source": [
    "\n",
    "\n",
    "# Day 3 Challenge"
   ]
  },
  {
   "cell_type": "code",
   "execution_count": 2,
   "metadata": {
    "ExecuteTime": {
     "end_time": "2019-12-03T10:47:22.869494Z",
     "start_time": "2019-12-03T10:47:22.864492Z"
    }
   },
   "outputs": [],
   "source": [
    "sep_line = \"\\n\"\n",
    "sep_data = \",\"\n",
    "file_a = \"day3.txt\"\n",
    "\n",
    "# read files\n",
    "with open(file_a, \"r\") as file:\n",
    "    input_text = file.read()\n",
    "\n",
    "# split input text\n",
    "input_a = input_text.split(sep_line)[0].split(sep_data)\n",
    "input_b = input_text.split(sep_line)[1].split(sep_data)"
   ]
  },
  {
   "cell_type": "markdown",
   "metadata": {},
   "source": [
    "## Part 1"
   ]
  },
  {
   "cell_type": "code",
   "execution_count": 3,
   "metadata": {
    "ExecuteTime": {
     "end_time": "2019-12-03T10:47:24.697910Z",
     "start_time": "2019-12-03T10:47:24.455731Z"
    }
   },
   "outputs": [],
   "source": [
    "from numpy import abs, min\n",
    "\n",
    "\n",
    "def calculate_manhatten(tuple):\n",
    "    \"\"\"Calculates the manhatten distance between a point and 0\"\"\"\n",
    "\n",
    "    return abs(tuple[0]) + abs(tuple[1])\n",
    "\n",
    "\n",
    "def calculate_line_coordinates(input_list):\n",
    "    \"\"\"Calculates every single position of a wire as it passes through the grid\"\"\"\n",
    "\n",
    "    # start in position 0\n",
    "    x = 0\n",
    "    y = 0\n",
    "    \n",
    "    # start with no path traces\n",
    "    coordinates_list = []\n",
    "    \n",
    "    # execute all walking operations\n",
    "    for operation in input_list:\n",
    "        \n",
    "        # extract direction and amount\n",
    "        direction = operation[0]\n",
    "        amount = int(operation[1:])\n",
    "\n",
    "        # walk path in destination R/L/U/D\n",
    "        # store all step locations in between end points\n",
    "        if direction == \"R\":\n",
    "            for _ in range(amount):\n",
    "                x += 1\n",
    "                coordinates_list.append((x, y))\n",
    "        elif direction == \"L\":\n",
    "            for _ in range(amount):\n",
    "                x -= 1\n",
    "                coordinates_list.append((x, y))\n",
    "        elif direction == \"U\":\n",
    "            for _ in range(amount):\n",
    "                y += 1\n",
    "                coordinates_list.append((x, y))\n",
    "        elif direction == \"D\":\n",
    "            for _ in range(amount):\n",
    "                y -= 1\n",
    "                coordinates_list.append((x, y))\n",
    "\n",
    "    return coordinates_list\n",
    "\n",
    "\n",
    "def calculate_intersections(coordinates_a, coordinates_b):\n",
    "    \"\"\"Calculates all intersections between a and b\"\"\"\n",
    "\n",
    "    # start with zero intersections\n",
    "    intersections_list = []\n",
    "    \n",
    "    # take every step on path a and lookup if b reaches the same position\n",
    "    # this is not performing very well with a large number of points\n",
    "    # but it works\n",
    "    for i in coordinates_a:\n",
    "        \n",
    "        # if position is also in b record it as intersection\n",
    "        if i in coordinates_b:\n",
    "            intersections_list.append(i)\n",
    "            \n",
    "    return intersections_list\n",
    "\n",
    "\n",
    "def calculate_nearest_intersection(intersections):\n",
    "    \"\"\"Calculates manhatten distance to nearest intersection\"\"\"\n",
    "\n",
    "    # start with zero distances\n",
    "    distances = []\n",
    "    \n",
    "    # calculate manhaten distanc for every intersection\n",
    "    for element in intersections:\n",
    "        distances.append(calculate_manhatten(element))\n",
    "        \n",
    "    # report distance of nearest intersection\n",
    "    return min(distances)\n",
    "\n",
    "\n",
    "def calculate_wire_distance(a_coordinates, b_coordinates, ints):\n",
    "    \"\"\"Calculates distance from wire start to nearest intersection\"\"\"\n",
    "    \n",
    "    # start with zero distance\n",
    "    out_list = []\n",
    "    \n",
    "    # go through all the intersections we have\n",
    "    for intersection in ints:\n",
    "        \n",
    "        # calculate both wires start to end distance to this intersection\n",
    "        # add one since we start with counter = 0\n",
    "        a_dist = a_coordinates.index(intersection) + 1\n",
    "        b_dist = b_coordinates.index(intersection) + 1\n",
    "        \n",
    "        # add both wires distance to outlist\n",
    "        out_list.append(a_dist + b_dist)\n",
    "    \n",
    "    # report shortest distance\n",
    "    return min(out_list)"
   ]
  },
  {
   "cell_type": "markdown",
   "metadata": {},
   "source": [
    "### Test Execution"
   ]
  },
  {
   "cell_type": "code",
   "execution_count": 4,
   "metadata": {
    "ExecuteTime": {
     "end_time": "2019-12-03T10:47:27.645641Z",
     "start_time": "2019-12-03T10:47:27.622636Z"
    }
   },
   "outputs": [
    {
     "name": "stdout",
     "output_type": "stream",
     "text": [
      "target 159, actual 159\n"
     ]
    }
   ],
   "source": [
    "a = calculate_line_coordinates(\"R75,D30,R83,U83,L12,D49,R71,U7,L72\".split(\",\"))\n",
    "b = calculate_line_coordinates(\"U62,R66,U55,R34,D71,R55,D58,R83\".split(\",\"))\n",
    "ints = calculate_intersections(a, b)\n",
    "\n",
    "print(\"target 159, actual \" + str(\n",
    "    calculate_nearest_intersection(\n",
    "        calculate_intersections(a, b)\n",
    "    )\n",
    "))"
   ]
  },
  {
   "cell_type": "code",
   "execution_count": 5,
   "metadata": {
    "ExecuteTime": {
     "end_time": "2019-12-03T10:47:36.282023Z",
     "start_time": "2019-12-03T10:47:36.271017Z"
    }
   },
   "outputs": [
    {
     "name": "stdout",
     "output_type": "stream",
     "text": [
      "target 135, actual 135\n"
     ]
    }
   ],
   "source": [
    "a = calculate_line_coordinates(\"R98,U47,R26,D63,R33,U87,L62,D20,R33,U53,R51\".split(\",\"))\n",
    "b = calculate_line_coordinates(\"U98,R91,D20,R16,D67,R40,U7,R15,U6,R7\".split(\",\"))\n",
    "\n",
    "print(\"target 135, actual \" + str(\n",
    "    calculate_nearest_intersection(\n",
    "        calculate_intersections(a, b)\n",
    "    )\n",
    "))"
   ]
  },
  {
   "cell_type": "markdown",
   "metadata": {},
   "source": [
    "### Real Execution"
   ]
  },
  {
   "cell_type": "code",
   "execution_count": 36,
   "metadata": {
    "ExecuteTime": {
     "end_time": "2019-12-03T07:29:47.894557Z",
     "start_time": "2019-12-03T07:29:47.849537Z"
    }
   },
   "outputs": [],
   "source": [
    "a = calculate_line_coordinates(input_a)\n",
    "b = calculate_line_coordinates(input_b)\n",
    "intersections = calculate_intersections(a, b)"
   ]
  },
  {
   "cell_type": "code",
   "execution_count": 39,
   "metadata": {
    "ExecuteTime": {
     "end_time": "2019-12-03T07:40:23.319964Z",
     "start_time": "2019-12-03T07:40:23.313960Z"
    }
   },
   "outputs": [
    {
     "data": {
      "text/plain": [
       "209"
      ]
     },
     "execution_count": 39,
     "metadata": {},
     "output_type": "execute_result"
    }
   ],
   "source": [
    "calculate_nearest_intersection(intersections)"
   ]
  },
  {
   "cell_type": "markdown",
   "metadata": {},
   "source": [
    "## Part 2"
   ]
  },
  {
   "cell_type": "markdown",
   "metadata": {},
   "source": [
    "### Test Execution"
   ]
  },
  {
   "cell_type": "code",
   "execution_count": 7,
   "metadata": {},
   "outputs": [
    {
     "name": "stdout",
     "output_type": "stream",
     "text": [
      "target 610\n",
      "actual 610\n"
     ]
    }
   ],
   "source": [
    "a = calculate_line_coordinates(\"R75,D30,R83,U83,L12,D49,R71,U7,L72\".split(\",\"))\n",
    "b = calculate_line_coordinates(\"U62,R66,U55,R34,D71,R55,D58,R83\".split(\",\"))\n",
    "ints = calculate_intersections(a, b)\n",
    "\n",
    "print(\"target 610\")\n",
    "print(\"actual \"+str(calculate_wire_distance(a,b,ints)))"
   ]
  },
  {
   "cell_type": "code",
   "execution_count": 5,
   "metadata": {},
   "outputs": [
    {
     "name": "stdout",
     "output_type": "stream",
     "text": [
      "target 410\n",
      "actual 410\n"
     ]
    }
   ],
   "source": [
    "a = calculate_line_coordinates(\"R98,U47,R26,D63,R33,U87,L62,D20,R33,U53,R51\".split(\",\"))\n",
    "b = calculate_line_coordinates(\"U98,R91,D20,R16,D67,R40,U7,R15,U6,R7\".split(\",\"))\n",
    "ints = calculate_intersections(a, b)\n",
    "\n",
    "print(\"target 410\")\n",
    "print(\"actual \"+str(calculate_wire_distance(a,b,ints)))"
   ]
  },
  {
   "cell_type": "markdown",
   "metadata": {},
   "source": [
    "### Real Execution"
   ]
  },
  {
   "cell_type": "code",
   "execution_count": 10,
   "metadata": {},
   "outputs": [],
   "source": [
    "# Just for safety, as the calculation of intersections takes some time :-)\n",
    "intersections = [(-968, 0), (-1009, -197), (-968, -381), (-803, -381), (-340, -381), (-39, -170), (-269, -170), (-269, -442), (-269, -577), (247, -1290), (-113, -1290), (-161, -577), (28, -560), (339, -560), (339, -1026), (-318, -1026), (-356, -1290), (-356, -1353), (2324, -502), (2324, -146), (2394, -143), (2470, -143), (2068, -502), (2394, -473), (2394, -231), (2304, -146), (2304, -108), (2304, -59), (4530, 76), (4530, 135), (3713, 276), (3640, 837), (2933, 1024), (2933, 1189), (2667, 1251), (2532, 1244), (2532, 1189), (2744, 293), (2034, 235), (2034, 293), (2034, 512), (2034, 537), (2034, 1062), (1702, 1077), (1697, 1077), (1702, 900), (2099, 900), (2546, 293), (2311, -59), (2311, -108), (2311, -146), (2311, -502), (1880, -146), (1880, -108), (1880, -59), (1885, -35), (2394, -418), (1885, -418), (1885, -237), (2394, -237), (339, -853), (339, -583), (339, -532), (28, -532), (-141, -577), (-318, -909), (-340, -909), (-517, -909), (-737, -597), (-737, -577), (-884, 51), (-968, 51), (-1087, 51), (-1115, 377), (-1115, 378), (-1115, 383), (-1374, 757), (-1974, 502), (-1968, 502), (-1374, 696), (-1374, 852), (-1655, 502), (-1689, -162), (-1592, -162), (-1474, -162), (-1090, -71), (-1090, 7), (-1090, 377), (-1090, 378), (-1090, 383), (-1374, 594), (-1784, 502), (-1689, -113), (-1592, -113), (-1474, -113), (-968, -113), (-801, -577), (-801, -597), (-517, -1063), (-381, -1063), (-318, -1063), (-95, -1290), (320, -1290), (-145, -1290), (-1689, -369), (-1592, -369), (-1547, -71), (-1474, 124), (-1384, 124), (-1087, 124), (-968, 124), (-884, 124), (-803, -216), (-968, -216), (-1274, -216), (-1441, -71), (-1441, 383), (-1746, 502), (-1616, -71), (-1616, -436), (-1651, -71), (-1651, -436)]"
   ]
  },
  {
   "cell_type": "code",
   "execution_count": 11,
   "metadata": {},
   "outputs": [
    {
     "data": {
      "text/plain": [
       "43258"
      ]
     },
     "execution_count": 11,
     "metadata": {},
     "output_type": "execute_result"
    }
   ],
   "source": [
    "a = calculate_line_coordinates(input_a)\n",
    "b = calculate_line_coordinates(input_b)\n",
    "calculate_wire_distance(a, b, intersections)"
   ]
  }
 ],
 "metadata": {
  "kernelspec": {
   "display_name": "Python 3",
   "language": "python",
   "name": "python3"
  },
  "language_info": {
   "codemirror_mode": {
    "name": "ipython",
    "version": 3
   },
   "file_extension": ".py",
   "mimetype": "text/x-python",
   "name": "python",
   "nbconvert_exporter": "python",
   "pygments_lexer": "ipython3",
   "version": "3.6.6"
  }
 },
 "nbformat": 4,
 "nbformat_minor": 2
}
