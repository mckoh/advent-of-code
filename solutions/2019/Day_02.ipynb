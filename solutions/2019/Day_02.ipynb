{
 "cells": [
  {
   "cell_type": "markdown",
   "metadata": {},
   "source": [
    "# Day 2 Challenge"
   ]
  },
  {
   "cell_type": "code",
   "execution_count": 1,
   "metadata": {
    "ExecuteTime": {
     "end_time": "2019-12-03T10:45:15.318558Z",
     "start_time": "2019-12-03T10:45:15.310541Z"
    }
   },
   "outputs": [],
   "source": [
    "sep = \",\"\n",
    "\n",
    "with open(\"day2.txt\", \"r\") as file:\n",
    "    in_code_text = file.read()\n",
    "\n",
    "in_code = in_code_text.split(sep)\n",
    "in_code = list(map(int, in_code))"
   ]
  },
  {
   "cell_type": "markdown",
   "metadata": {},
   "source": [
    "## Part 1"
   ]
  },
  {
   "cell_type": "code",
   "execution_count": 2,
   "metadata": {
    "ExecuteTime": {
     "end_time": "2019-12-03T10:45:15.341609Z",
     "start_time": "2019-12-03T10:45:15.329586Z"
    }
   },
   "outputs": [],
   "source": [
    "def calculate(command, source_a, source_b):\n",
    "    if command == 1:\n",
    "        return source_a + source_b\n",
    "    elif command == 2:\n",
    "        return source_a * source_b"
   ]
  },
  {
   "cell_type": "code",
   "execution_count": 3,
   "metadata": {
    "ExecuteTime": {
     "end_time": "2019-12-03T10:45:15.365666Z",
     "start_time": "2019-12-03T10:45:15.345626Z"
    }
   },
   "outputs": [],
   "source": [
    "def calculate_result(noun=12, verb=2):\n",
    "    \n",
    "    # create copy of original list (just to keep original reusable for later tasks in part 2)\n",
    "    out_code = in_code.copy()\n",
    "    \n",
    "    # induce verb and noun\n",
    "    out_code[1] = noun\n",
    "    out_code[2] = verb\n",
    "    \n",
    "    # specify program start and end\n",
    "    step = 0\n",
    "    increment = 4\n",
    "    prog_length = len(out_code)\n",
    "\n",
    "    # iterate over programme\n",
    "    for step in range(0, prog_length, increment):\n",
    "\n",
    "        # read command in current position\n",
    "        command = out_code[step]\n",
    "\n",
    "        # halt programme if command is 99\n",
    "        if command == 99:\n",
    "            break\n",
    "\n",
    "        # get calculation components\n",
    "        source_a = out_code[out_code[step+1]]\n",
    "        source_b = out_code[out_code[step+2]]\n",
    "        destination = int(out_code[step+3])\n",
    "\n",
    "        # calculate result\n",
    "        result = calculate(\n",
    "            command=command,\n",
    "            source_a=source_a,\n",
    "            source_b=source_b\n",
    "        )\n",
    "\n",
    "        # replace destination value with result\n",
    "        out_code[destination] = result\n",
    "        \n",
    "    return out_code[0]"
   ]
  },
  {
   "cell_type": "code",
   "execution_count": 4,
   "metadata": {
    "ExecuteTime": {
     "end_time": "2019-12-03T10:45:15.392723Z",
     "start_time": "2019-12-03T10:45:15.369684Z"
    }
   },
   "outputs": [
    {
     "name": "stdout",
     "output_type": "stream",
     "text": [
      "Result of program at position 0 is 5110675\n"
     ]
    }
   ],
   "source": [
    "print(\"Result of program at position 0 is {}\".format(\n",
    "    str(\n",
    "        calculate_result(12, 2)\n",
    "    )\n",
    "))"
   ]
  },
  {
   "cell_type": "markdown",
   "metadata": {},
   "source": [
    "## Part 2"
   ]
  },
  {
   "cell_type": "code",
   "execution_count": 5,
   "metadata": {
    "ExecuteTime": {
     "end_time": "2019-12-03T10:45:15.920859Z",
     "start_time": "2019-12-03T10:45:15.396732Z"
    }
   },
   "outputs": [
    {
     "name": "stdout",
     "output_type": "stream",
     "text": [
      "Calculation 19690720 produced by noun 48 and verb 47.\n",
      "4847\n"
     ]
    }
   ],
   "source": [
    "for noun in range(100):\n",
    "    for verb in range(100):\n",
    "        if calculate_result(noun, verb) == 19690720:\n",
    "            print(\"Calculation {} produced by noun {} and verb {}.\".format(\n",
    "                calculate_result(noun, verb),\n",
    "                noun,\n",
    "                verb\n",
    "            ))\n",
    "            print(100 * noun + verb)\n",
    "            break"
   ]
  }
 ],
 "metadata": {
  "kernelspec": {
   "display_name": "Python 3",
   "language": "python",
   "name": "python3"
  },
  "language_info": {
   "codemirror_mode": {
    "name": "ipython",
    "version": 3
   },
   "file_extension": ".py",
   "mimetype": "text/x-python",
   "name": "python",
   "nbconvert_exporter": "python",
   "pygments_lexer": "ipython3",
   "version": "3.8.0"
  }
 },
 "nbformat": 4,
 "nbformat_minor": 2
}
