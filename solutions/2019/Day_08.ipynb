{
 "cells": [
  {
   "cell_type": "markdown",
   "metadata": {},
   "source": [
    "# Day 8 Challenge"
   ]
  },
  {
   "cell_type": "code",
   "execution_count": 30,
   "metadata": {
    "ExecuteTime": {
     "end_time": "2019-12-08T06:55:19.683946Z",
     "start_time": "2019-12-08T06:55:19.669793Z"
    }
   },
   "outputs": [],
   "source": [
    "from numpy import array, min, sum"
   ]
  },
  {
   "cell_type": "code",
   "execution_count": 137,
   "metadata": {
    "ExecuteTime": {
     "end_time": "2019-12-08T18:56:18.830159Z",
     "start_time": "2019-12-08T18:56:18.813895Z"
    }
   },
   "outputs": [],
   "source": [
    "with open(\"day8.txt\", \"r\") as in_file:\n",
    "\n",
    "    content = in_file.read()\n",
    "    \n",
    "content = content.strip()"
   ]
  },
  {
   "cell_type": "markdown",
   "metadata": {},
   "source": [
    "## Part 1"
   ]
  },
  {
   "cell_type": "code",
   "execution_count": 162,
   "metadata": {
    "ExecuteTime": {
     "end_time": "2019-12-08T19:18:22.684432Z",
     "start_time": "2019-12-08T19:18:22.659816Z"
    }
   },
   "outputs": [],
   "source": [
    "def split_to_layers(string, width=25, height=6):\n",
    "    \n",
    "    \"\"\"Splits input string into image layers.\"\"\"\n",
    "\n",
    "    layers = []\n",
    "    \n",
    "    for layer in range(width*height, l, width*height):\n",
    "        layers.append(list(string[layer-width*height:layer]))\n",
    "\n",
    "    return array(layers)\n",
    "\n",
    "\n",
    "def count_chars(input_string):\n",
    "    \n",
    "    \"\"\"Counts 0, 1, 2 characters in a string.\"\"\"\n",
    "    \n",
    "    zero = 0\n",
    "    one = 0\n",
    "    two = 0\n",
    "    \n",
    "    for char in input_string:\n",
    "        if char == \"0\":\n",
    "            zero += 1\n",
    "            \n",
    "        elif char == \"1\":\n",
    "            one += 1\n",
    "        \n",
    "        elif char == \"2\":\n",
    "            two += 1\n",
    "    \n",
    "    return zero, one, two\n",
    "\n",
    "\n",
    "def find_right_layer(layers):\n",
    "\n",
    "    \"\"\"Finds the right layer and returns the right number.\"\"\"\n",
    "\n",
    "    zeros = []\n",
    "    for layer in layers:\n",
    "        zero, _, _ = count_chars(layer)\n",
    "        zeros.append(zero)\n",
    "\n",
    "    target_layer = layers[zeros.index(min(zeros))]\n",
    "    _, ones, twos = count_chars(target_layer)\n",
    "    \n",
    "    return target_layer, ones * twos"
   ]
  },
  {
   "cell_type": "code",
   "execution_count": 163,
   "metadata": {
    "ExecuteTime": {
     "end_time": "2019-12-08T19:18:26.689617Z",
     "start_time": "2019-12-08T19:18:26.532716Z"
    }
   },
   "outputs": [
    {
     "name": "stdout",
     "output_type": "stream",
     "text": [
      "1690\n"
     ]
    }
   ],
   "source": [
    "layers = split_to_layers(string=content, width=25, height=6)\n",
    "target_layer, search_value = find_right_layer(layers)\n",
    "\n",
    "print(search_value)"
   ]
  },
  {
   "cell_type": "markdown",
   "metadata": {},
   "source": [
    "## Part 2"
   ]
  },
  {
   "cell_type": "markdown",
   "metadata": {},
   "source": [
    "* 0 is black\n",
    "* 1 is white, and\n",
    "* 2 is transparent"
   ]
  },
  {
   "cell_type": "code",
   "execution_count": 164,
   "metadata": {
    "ExecuteTime": {
     "end_time": "2019-12-08T19:20:55.198336Z",
     "start_time": "2019-12-08T19:20:55.186306Z"
    }
   },
   "outputs": [],
   "source": [
    "layers_t = layers.transpose()"
   ]
  },
  {
   "cell_type": "code",
   "execution_count": 165,
   "metadata": {
    "ExecuteTime": {
     "end_time": "2019-12-08T19:20:56.663244Z",
     "start_time": "2019-12-08T19:20:56.616901Z"
    }
   },
   "outputs": [],
   "source": [
    "final_image = \"\"\n",
    "for pixel in layers_t:\n",
    "    for layer in pixel:\n",
    "        if layer == \"2\":\n",
    "            continue\n",
    "        if layer == \"1\":\n",
    "            final_image += \"1\"\n",
    "            break\n",
    "        if layer == \"0\":\n",
    "            final_image += \"0\"\n",
    "            break"
   ]
  },
  {
   "cell_type": "code",
   "execution_count": 178,
   "metadata": {
    "ExecuteTime": {
     "end_time": "2019-12-08T19:31:38.106166Z",
     "start_time": "2019-12-08T19:31:38.081038Z"
    }
   },
   "outputs": [
    {
     "name": "stdout",
     "output_type": "stream",
     "text": [
      "#### ###  #### #  # ###  \n",
      "   # #  #    # #  # #  # \n",
      "  #  #  #   #  #  # ###  \n",
      " #   ###   #   #  # #  # \n",
      "#    #    #    #  # #  # \n",
      "#### #    ####  ##  ###  \n",
      "\n"
     ]
    }
   ],
   "source": [
    "fi = array(list(final_image)).reshape(h,w)\n",
    "fo = \"\"\n",
    "for line in fi:\n",
    "    fo += \",\".join(line) + \"\\n\"\n",
    "print(fo.replace(\"0\", \" \").replace(\"1\", \"#\").replace(\",\", \"\"))"
   ]
  }
 ],
 "metadata": {
  "kernelspec": {
   "display_name": "Python 3",
   "language": "python",
   "name": "python3"
  },
  "language_info": {
   "codemirror_mode": {
    "name": "ipython",
    "version": 3
   },
   "file_extension": ".py",
   "mimetype": "text/x-python",
   "name": "python",
   "nbconvert_exporter": "python",
   "pygments_lexer": "ipython3",
   "version": "3.6.6"
  }
 },
 "nbformat": 4,
 "nbformat_minor": 2
}
