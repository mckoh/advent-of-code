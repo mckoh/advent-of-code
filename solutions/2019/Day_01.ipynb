{
 "cells": [
  {
   "cell_type": "markdown",
   "metadata": {},
   "source": [
    "# Day 1 Challenge"
   ]
  },
  {
   "cell_type": "code",
   "execution_count": 1,
   "metadata": {
    "ExecuteTime": {
     "end_time": "2019-12-03T10:45:40.889293Z",
     "start_time": "2019-12-03T10:45:40.882288Z"
    }
   },
   "outputs": [],
   "source": [
    "sep = \"\\n\"\n",
    "\n",
    "with open(\"day1.txt\", \"r\") as file:\n",
    "    content = file.read()\n",
    "\n",
    "int_list = content.split(sep)\n",
    "int_list = list(map(int, int_list))"
   ]
  },
  {
   "cell_type": "markdown",
   "metadata": {},
   "source": [
    "## Part 1"
   ]
  },
  {
   "cell_type": "code",
   "execution_count": 2,
   "metadata": {
    "ExecuteTime": {
     "end_time": "2019-12-03T10:45:40.906357Z",
     "start_time": "2019-12-03T10:45:40.896308Z"
    }
   },
   "outputs": [],
   "source": [
    "def calculate_fuel_mass(mass):\n",
    "    # int is used to get floor of the value\n",
    "    return int(mass / 3) - 2"
   ]
  },
  {
   "cell_type": "code",
   "execution_count": 3,
   "metadata": {
    "ExecuteTime": {
     "end_time": "2019-12-03T10:45:40.930411Z",
     "start_time": "2019-12-03T10:45:40.909336Z"
    }
   },
   "outputs": [],
   "source": [
    "result = 0\n",
    "for value in int_list:\n",
    "    result += calculate_fuel_mass(value)"
   ]
  },
  {
   "cell_type": "code",
   "execution_count": 4,
   "metadata": {
    "ExecuteTime": {
     "end_time": "2019-12-03T10:45:40.952458Z",
     "start_time": "2019-12-03T10:45:40.934388Z"
    }
   },
   "outputs": [
    {
     "name": "stdout",
     "output_type": "stream",
     "text": [
      "Total fuel required for cargo is 3497998 \n"
     ]
    }
   ],
   "source": [
    "print(\"Total fuel required for cargo is {} \".format(\n",
    "    result\n",
    "))"
   ]
  },
  {
   "cell_type": "markdown",
   "metadata": {},
   "source": [
    "## Part 2"
   ]
  },
  {
   "cell_type": "code",
   "execution_count": 5,
   "metadata": {
    "ExecuteTime": {
     "end_time": "2019-12-03T10:45:40.967461Z",
     "start_time": "2019-12-03T10:45:40.955432Z"
    }
   },
   "outputs": [],
   "source": [
    "def calculate_total_fuel_mass(mass):\n",
    "    fuel_mass = calculate_fuel_mass(mass)\n",
    "    if fuel_mass < 0:\n",
    "        return 0\n",
    "    else:\n",
    "        return fuel_mass + calculate_total_fuel_mass(fuel_mass)"
   ]
  },
  {
   "cell_type": "code",
   "execution_count": 6,
   "metadata": {
    "ExecuteTime": {
     "end_time": "2019-12-03T10:45:40.989510Z",
     "start_time": "2019-12-03T10:45:40.974492Z"
    }
   },
   "outputs": [],
   "source": [
    "total_result = 0\n",
    "for element in int_list:\n",
    "    total_result += calculate_total_fuel_mass(element)"
   ]
  },
  {
   "cell_type": "code",
   "execution_count": 7,
   "metadata": {
    "ExecuteTime": {
     "end_time": "2019-12-03T10:45:41.012574Z",
     "start_time": "2019-12-03T10:45:40.992518Z"
    }
   },
   "outputs": [
    {
     "name": "stdout",
     "output_type": "stream",
     "text": [
      "Total fuel required for cargo and fuel is 5244112 \n"
     ]
    }
   ],
   "source": [
    "print(\"Total fuel required for cargo and fuel is {} \".format(\n",
    "    total_result\n",
    "))"
   ]
  }
 ],
 "metadata": {
  "kernelspec": {
   "display_name": "Python 3",
   "language": "python",
   "name": "python3"
  },
  "language_info": {
   "codemirror_mode": {
    "name": "ipython",
    "version": 3
   },
   "file_extension": ".py",
   "mimetype": "text/x-python",
   "name": "python",
   "nbconvert_exporter": "python",
   "pygments_lexer": "ipython3",
   "version": "3.6.6"
  }
 },
 "nbformat": 4,
 "nbformat_minor": 2
}
