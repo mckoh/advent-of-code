{
 "cells": [
  {
   "cell_type": "markdown",
   "metadata": {},
   "source": [
    "# Day 12 Challenge"
   ]
  },
  {
   "cell_type": "code",
   "execution_count": 1,
   "metadata": {
    "ExecuteTime": {
     "end_time": "2019-12-12T21:56:12.610132Z",
     "start_time": "2019-12-12T21:56:09.595116Z"
    }
   },
   "outputs": [],
   "source": [
    "import aocd\n",
    "import numpy as np\n",
    "import datetime\n",
    "\n",
    "from numpy import lcm\n",
    "\n",
    "session = \"53616c7465645f5f5d64e0f6b2811f4d18eb862dae5aa906e4d25c0f6a1d5944c89433699f1b1175fdea140e981da4a5\"\n",
    "day     = datetime.datetime.now().day\n",
    "year    = datetime.datetime.now().year\n",
    "data    = aocd.get_data(session=session, year=year, day=day)"
   ]
  },
  {
   "cell_type": "code",
   "execution_count": 2,
   "metadata": {
    "ExecuteTime": {
     "end_time": "2019-12-12T21:56:12.619117Z",
     "start_time": "2019-12-12T21:56:12.613116Z"
    }
   },
   "outputs": [],
   "source": [
    "positions = []\n",
    "for row in data.split(\"\\n\"):\n",
    "    for field in row.split(\", \"):\n",
    "        positions.append(int(field.split(\"=\")[1].replace(\">\", \"\")))\n",
    "        \n",
    "positions = np.array(positions)\n",
    "\n",
    "moon_positions = []\n",
    "for line in positions.reshape(4,3):\n",
    "    moon_positions.append({\"x\":line[0], \"y\": line[1], \"z\": line[2]})"
   ]
  },
  {
   "cell_type": "code",
   "execution_count": 57,
   "metadata": {
    "ExecuteTime": {
     "end_time": "2019-12-12T22:22:42.360574Z",
     "start_time": "2019-12-12T22:22:42.355562Z"
    }
   },
   "outputs": [],
   "source": [
    "from functools import reduce\n",
    "from math import gcd\n",
    "\n",
    "def lcm2(nums):\n",
    "\n",
    "    return reduce(lambda n, m: (n * m)//gcd(n, m), nums)"
   ]
  },
  {
   "cell_type": "code",
   "execution_count": 59,
   "metadata": {
    "ExecuteTime": {
     "end_time": "2019-12-12T22:22:48.191725Z",
     "start_time": "2019-12-12T22:22:48.157702Z"
    }
   },
   "outputs": [],
   "source": [
    "from itertools import permutations, count\n",
    "\n",
    "class OrbitalSystem:\n",
    "    def __init__(self, timesteps=10):\n",
    "        self._timestep = 0\n",
    "        self._timesteps = timesteps\n",
    "        self.moons = []\n",
    "        self._cycle_lengths = {\"x\": None, \"y\": None, \"z\": None}\n",
    "    \n",
    "    def add_moon(self, name, position):\n",
    "        self.moons.append(\n",
    "            Moon(\n",
    "                name=name,\n",
    "                position=position\n",
    "            )\n",
    "        )\n",
    "    \n",
    "    def print_state(self, step):\n",
    "        print(f\"\\n\\nstep {step}\")\n",
    "        print(\"\\npos\")\n",
    "        print(self.moons[0]._name, self.moons[0]._position, self.moons[0]._original_position)\n",
    "        print(self.moons[1]._name, self.moons[1]._position, self.moons[1]._original_position)\n",
    "        print(self.moons[2]._name, self.moons[2]._position, self.moons[2]._original_position)\n",
    "        print(self.moons[3]._name, self.moons[3]._position, self.moons[3]._original_position)\n",
    "        print(\"\\nvel\")\n",
    "        print(self.moons[0]._name, self.moons[0]._velocity, self.moons[0]._original_velocity)\n",
    "        print(self.moons[1]._name, self.moons[1]._velocity, self.moons[1]._original_velocity)\n",
    "        print(self.moons[2]._name, self.moons[2]._velocity, self.moons[2]._original_velocity)\n",
    "        print(self.moons[3]._name, self.moons[3]._velocity, self.moons[3]._original_velocity)\n",
    "    \n",
    "    def simulate_movement(self, part2=False):\n",
    "        pairs = list(permutations(range(len(self.moons)), 2))\n",
    "        \n",
    "        for step in range(1, self._timesteps+1):\n",
    "            \n",
    "            self._timestep += 1\n",
    "            for pair in pairs:\n",
    "                moon1 = self.moons[pair[0]]\n",
    "                moon2 = self.moons[pair[1]]\n",
    "                moon1.update_velocity(moon=moon2)\n",
    "\n",
    "            for moon in self.moons:\n",
    "                moon.update_position()\n",
    "                moon.update_energies()\n",
    "            \n",
    "            \n",
    "            if part2:\n",
    "                self.check_against_initial()\n",
    "\n",
    "                # break simulation if all three cycle lens have been found\n",
    "                if self._cycle_lengths[\"x\"] and self._cycle_lengths[\"y\"] and self._cycle_lengths[\"z\"]:\n",
    "                    print(lcm2(\n",
    "                        [\n",
    "                            self._cycle_lengths[\"x\"],\n",
    "                            self._cycle_lengths[\"y\"],\n",
    "                            self._cycle_lengths[\"z\"]\n",
    "                        ]\n",
    "                    ))\n",
    "                    break\n",
    "                \n",
    "    def check_against_initial(self):\n",
    "        for axis in [\"x\", \"y\", \"z\"]:\n",
    "            validation_list = []\n",
    "            for moon in self.moons:\n",
    "                validation_list.append(moon.check_against_initial(axis))\n",
    "            if sum(validation_list) == len(self.moons):\n",
    "                if not self._cycle_lengths[axis]:\n",
    "                    self._cycle_lengths[axis] = self._timestep\n",
    "\n",
    "    def return_total_energy(self):\n",
    "        total = 0\n",
    "        for moon in self.moons:\n",
    "            total += moon._total_energy\n",
    "        return total\n",
    "    \n",
    "class Moon:\n",
    "    def __init__(self, name, position):\n",
    "        self._name = name\n",
    "        self._position = position.copy()\n",
    "        self._velocity = {\"x\": 0, \"y\": 0, \"z\": 0}\n",
    "        self._potential_energy = 0\n",
    "        self._kinetic_energy = 0\n",
    "        self._total_energy = 0\n",
    "        \n",
    "        self._original_position = position.copy()\n",
    "        self._original_velocity = {\"x\": 0, \"y\": 0, \"z\": 0}\n",
    "        \n",
    "    def check_against_initial(self, axis):\n",
    "        if self._position[axis] == self._original_position[axis]:\n",
    "            if self._velocity[axis] == self._original_velocity[axis]:\n",
    "                return 1\n",
    "            else:\n",
    "                return 0\n",
    "        else:\n",
    "            return 0\n",
    "        \n",
    "    def update_velocity(self, moon):\n",
    "        cp = moon._position\n",
    "        op = self._position\n",
    "        \n",
    "        for i in [\"x\", \"y\", \"z\"]:\n",
    "            if cp[i] > op[i]:\n",
    "                self._velocity[i] = self._velocity[i] + 1\n",
    "            elif cp[i] < op[i]:\n",
    "                self._velocity[i] = self._velocity[i] - 1\n",
    "            elif cp[i] == op[i]:\n",
    "                self._velocity[i] = self._velocity[i]\n",
    "\n",
    "    def update_energies(self):\n",
    "        self._potential_energy = abs(self._position[\"x\"]) + abs(self._position[\"y\"]) + abs(self._position[\"z\"])\n",
    "        self._kinetic_energy = abs(self._velocity[\"x\"]) + abs(self._velocity[\"y\"]) + abs(self._velocity[\"z\"])\n",
    "        self._total_energy = self._kinetic_energy * self._potential_energy\n",
    "    \n",
    "    def update_position(self):\n",
    "        for axis in [\"x\", \"y\", \"z\"]:\n",
    "            self._position[axis] += self._velocity[axis]"
   ]
  },
  {
   "cell_type": "markdown",
   "metadata": {},
   "source": [
    "## Testing"
   ]
  },
  {
   "cell_type": "code",
   "execution_count": 60,
   "metadata": {
    "ExecuteTime": {
     "end_time": "2019-12-12T22:22:51.568538Z",
     "start_time": "2019-12-12T22:22:51.558511Z"
    }
   },
   "outputs": [
    {
     "name": "stdout",
     "output_type": "stream",
     "text": [
      "2772\n"
     ]
    }
   ],
   "source": [
    "# Example 1 (2772)\n",
    "\n",
    "jupyter_system = OrbitalSystem(timesteps=500000)\n",
    "jupyter_system.add_moon(name=\"Io\", position={\"x\":-1, \"y\":0, \"z\":2})\n",
    "jupyter_system.add_moon(name=\"Europa\", position={\"x\":2, \"y\":-10, \"z\":-7})\n",
    "jupyter_system.add_moon(name=\"Ganymede\", position={\"x\":4, \"y\":-8, \"z\":8})\n",
    "jupyter_system.add_moon(name=\"Callisto\", position={\"x\":3, \"y\":5, \"z\":-1})\n",
    "jupyter_system.simulate_movement(part2=True)"
   ]
  },
  {
   "cell_type": "code",
   "execution_count": 61,
   "metadata": {
    "ExecuteTime": {
     "end_time": "2019-12-12T22:22:53.406519Z",
     "start_time": "2019-12-12T22:22:53.211520Z"
    }
   },
   "outputs": [
    {
     "name": "stdout",
     "output_type": "stream",
     "text": [
      "4686774924\n"
     ]
    }
   ],
   "source": [
    "# Example 2: 4686774924\n",
    "\n",
    "jupyter_system = OrbitalSystem(timesteps=500000)\n",
    "jupyter_system.add_moon(name=\"Io\", position={\"x\":-8, \"y\":-10, \"z\":0})\n",
    "jupyter_system.add_moon(name=\"Europa\", position={\"x\":5, \"y\":5, \"z\":10})\n",
    "jupyter_system.add_moon(name=\"Ganymede\", position={\"x\":2, \"y\":-7, \"z\":3})\n",
    "jupyter_system.add_moon(name=\"Callisto\", position={\"x\":9, \"y\":-8, \"z\":-3})\n",
    "jupyter_system.simulate_movement(part2=True)"
   ]
  },
  {
   "cell_type": "markdown",
   "metadata": {},
   "source": [
    "## Part 1"
   ]
  },
  {
   "cell_type": "code",
   "execution_count": 62,
   "metadata": {
    "ExecuteTime": {
     "end_time": "2019-12-12T22:22:56.026546Z",
     "start_time": "2019-12-12T22:22:55.969515Z"
    }
   },
   "outputs": [
    {
     "data": {
      "text/plain": [
       "7988"
      ]
     },
     "execution_count": 62,
     "metadata": {},
     "output_type": "execute_result"
    }
   ],
   "source": [
    "jupyter_system = OrbitalSystem(timesteps=1000)\n",
    "jupyter_system.add_moon(name=\"Io\", position=moon_positions[0])\n",
    "jupyter_system.add_moon(name=\"Europa\", position=moon_positions[1])\n",
    "jupyter_system.add_moon(name=\"Ganymede\", position=moon_positions[2])\n",
    "jupyter_system.add_moon(name=\"Callisto\", position=moon_positions[3])\n",
    "jupyter_system.simulate_movement(part2=False)\n",
    "jupyter_system.return_total_energy()"
   ]
  },
  {
   "cell_type": "markdown",
   "metadata": {},
   "source": [
    "## Part 2"
   ]
  },
  {
   "cell_type": "code",
   "execution_count": 63,
   "metadata": {
    "ExecuteTime": {
     "end_time": "2019-12-12T22:23:05.608406Z",
     "start_time": "2019-12-12T22:22:58.492414Z"
    }
   },
   "outputs": [
    {
     "name": "stdout",
     "output_type": "stream",
     "text": [
      "337721412394184\n"
     ]
    }
   ],
   "source": [
    "jupyter_system = OrbitalSystem(timesteps=500000)\n",
    "jupyter_system.add_moon(name=\"Io\", position=moon_positions[0])\n",
    "jupyter_system.add_moon(name=\"Europa\", position=moon_positions[1])\n",
    "jupyter_system.add_moon(name=\"Ganymede\", position=moon_positions[2])\n",
    "jupyter_system.add_moon(name=\"Callisto\", position=moon_positions[3])\n",
    "jupyter_system.simulate_movement(part2=True)"
   ]
  }
 ],
 "metadata": {
  "kernelspec": {
   "display_name": "Python 3",
   "language": "python",
   "name": "python3"
  },
  "language_info": {
   "codemirror_mode": {
    "name": "ipython",
    "version": 3
   },
   "file_extension": ".py",
   "mimetype": "text/x-python",
   "name": "python",
   "nbconvert_exporter": "python",
   "pygments_lexer": "ipython3",
   "version": "3.6.6"
  }
 },
 "nbformat": 4,
 "nbformat_minor": 2
}
