{
 "cells": [
  {
   "cell_type": "markdown",
   "metadata": {},
   "source": [
    "# Day 12 Challenge"
   ]
  },
  {
   "cell_type": "code",
   "execution_count": 58,
   "metadata": {
    "ExecuteTime": {
     "end_time": "2019-12-20T13:48:44.034727Z",
     "start_time": "2019-12-20T13:48:44.017576Z"
    }
   },
   "outputs": [],
   "source": [
    "import aocd\n",
    "\n",
    "session:str = \"53616c7465645f5f5d64e0f6b2811f4d18eb862dae5aa906e4d25c0f6a1d5944c89433699f1b1175fdea140e981da4a5\"\n",
    "day = 18\n",
    "year = 2019\n",
    "data = aocd.get_data(session=session, year=year, day=day)"
   ]
  },
  {
   "cell_type": "code",
   "execution_count": 120,
   "metadata": {
    "ExecuteTime": {
     "end_time": "2019-12-20T14:14:08.689874Z",
     "start_time": "2019-12-20T14:14:08.509877Z"
    }
   },
   "outputs": [],
   "source": [
    "import networkx as nx\n",
    "import numpy as np\n",
    "from matplotlib import pyplot as plt\n",
    "from numpy import min\n",
    "\n",
    "\n",
    "def plot_graph(obj):\n",
    "        \n",
    "    \"\"\"Plots the simplified graph object.\"\"\"\n",
    "\n",
    "    plt.figure(figsize=(20,20))\n",
    "\n",
    "    nx.draw_kamada_kawai(\n",
    "        obj,\n",
    "\n",
    "        # node options\n",
    "        with_labels=True,\n",
    "        node_size=1200,\n",
    "        node_color=\"black\",\n",
    "        font_family=\"consolas\",\n",
    "        font_weight='bold',\n",
    "        font_color = \"w\",\n",
    "        font_size=24,\n",
    "    )\n",
    "    plt.show()\n",
    "\n",
    "    \n",
    "class Navigator:\n",
    "    \n",
    "    \"\"\"Class allows navigation in a labyrinth object.\"\"\"\n",
    "    \n",
    "    def __init__(self, data):\n",
    "        \n",
    "        self.alphabet = \"\"\n",
    "        for char in data:\n",
    "            if char not in \" .#\\n\":\n",
    "                self.alphabet += char\n",
    "                \n",
    "        self.key_range = \"\"\n",
    "        for char in self.alphabet:\n",
    "            if char == str.lower(char):\n",
    "                if char != \"@\":\n",
    "                    self.key_range += char\n",
    "                \n",
    "\n",
    "        # convert map from input data\n",
    "        self._map = data.strip().split(\"\\n\")\n",
    "        self._amap = None\n",
    "        \n",
    "        self._navigator_position = None\n",
    "        \n",
    "        # Locate all items in map incl. own position\n",
    "        self._map_items = {\"doors\": {}, \"keys\": {}}\n",
    "        \n",
    "        # Initialize all internal objects\n",
    "        self._extract_map_items()\n",
    "        self._str_map_to_array()\n",
    "        \n",
    "        # prepare graph object\n",
    "        self._g = None\n",
    "        self._simple_g = None\n",
    "        \n",
    "        # create graph\n",
    "        self._construct_graph()\n",
    "        self._construct_simple_graph()\n",
    "        \n",
    "        # walk preparations\n",
    "        self._keys = []\n",
    "        \n",
    "        # player's current position and traveling distance\n",
    "        self._cc = \"@\"\n",
    "        self._d = 0\n",
    "        \n",
    "        print(\"\"\"Welcome to NAVIGATOR!\n",
    "\n",
    "\n",
    " _______              .__              __                \n",
    " \\\\      \\\\ _____ ___  _|__| _________ _/  |_  ___________ \n",
    " /   |   \\\\\\\\__  \\\\\\\\  \\\\/ /  |/ ___\\\\__  \\\\\\\\   __\\\\/  _ \\\\_  __ \\\\\n",
    "/    |    \\\\/ __ \\\\\\\\   /|  / /_/  > __ \\\\|  | (  <_> )  | \\\\/\n",
    "\\\\____|__  (____  /\\\\_/ |__\\\\___  (____  /__|  \\\\____/|__|   \n",
    "        \\\\/     \\\\/       /_____/     \\\\/                   \n",
    "\n",
    "\n",
    "You can use the _simple_graph object to see neighboring keys\n",
    "and doors, or you can use the _g object to explor the complete graph.\"\"\")\n",
    "    \n",
    "    # Private methods\n",
    "    \n",
    "    def _str_map_to_array(self):\n",
    "        \n",
    "        \"\"\"Turns a string map into an numpy array map.\"\"\"\n",
    "        \n",
    "        out_map = []\n",
    "        for row in self._map:\n",
    "            out_map.append(list(row))\n",
    "        self._amap = np.array(out_map)\n",
    "    \n",
    "    def _extract_map_items(self):\n",
    "        \n",
    "        \"\"\"Extracts all non-wall map items from given map.\"\"\"\n",
    "        \n",
    "        r = 0\n",
    "        for row in self._map:\n",
    "            c = 0\n",
    "            for char in row:\n",
    "                if char not in \"#.\":\n",
    "                    if char == \"@\":\n",
    "                        self._navigator_position = (c, r)\n",
    "                    elif char != \"@\":\n",
    "                        if char == str.upper(char):\n",
    "                            self._map_items[\"doors\"][char] = (c, r)\n",
    "                        elif char == str.lower(char):\n",
    "                            self._map_items[\"keys\"][char] = (c, r)\n",
    "                c += 1\n",
    "            r += 1\n",
    "        self._map_items\n",
    "    \n",
    "    def _construct_graph(self):\n",
    "        xmax, ymax = self._amap.shape\n",
    "\n",
    "        nodes = []\n",
    "        edges = []\n",
    "\n",
    "        # walk the inner area of the mace (1 to -1)\n",
    "        for i in range(1,xmax-1):\n",
    "            for j in range(1,ymax-1):\n",
    "\n",
    "                # read current character\n",
    "                cc = self._amap[i,j]\n",
    "\n",
    "                # if not a wall look around to finde paths\n",
    "                if cc != \"#\":\n",
    "                    if cc == \".\":\n",
    "                        cc = f\"V-{i}-{j}\"\n",
    "                    if cc not in nodes:\n",
    "                        nodes.append(cc)\n",
    "\n",
    "                    # look what's above, right, below, left\n",
    "                    rc = self._amap[i+1,j]         \n",
    "                    if rc != \"#\":\n",
    "                        if rc == \".\":\n",
    "                            rc = f\"V-{i+1}-{j}\"\n",
    "                        if rc not in nodes:\n",
    "                            nodes.append(rc)\n",
    "\n",
    "                        edges.append((cc,rc))\n",
    "\n",
    "                    bc = self._amap[i,j+1]\n",
    "                    if bc != \"#\":\n",
    "                        if bc == \".\":\n",
    "                            bc = f\"V-{i}-{j+1}\"\n",
    "                        if bc not in nodes:\n",
    "                            nodes.append(rc)\n",
    "\n",
    "                        edges.append((cc,bc))\n",
    "\n",
    "        self._g = nx.Graph()\n",
    "        self._g.add_nodes_from(nodes)\n",
    "        self._g.add_edges_from(edges)\n",
    "        \n",
    "    def _construct_simple_graph(self):\n",
    "        \n",
    "        \"\"\"Constructs a simplified graph that only contains doors and keys.\"\"\"\n",
    "        \n",
    "        #alphabet = \"@abcdefghijklmnopqrstuvwxyzABZDEFGHIJKLMNOPQRSTUVWXYZ\"\n",
    "        alphabet = \"\"\n",
    "        for char in data:\n",
    "            if char not in \" .#\\n\":\n",
    "                alphabet += char\n",
    "\n",
    "        nodes = []\n",
    "        edges = []\n",
    "\n",
    "        for fchar in alphabet:\n",
    "            if fchar not in nodes:\n",
    "                    nodes.append(fchar)\n",
    "            for tchar in alphabet:\n",
    "                if tchar not in nodes:\n",
    "                    nodes.append(tchar)\n",
    "\n",
    "                # path between nodes\n",
    "                path = self._return_shortest_clean_path(fchar, tchar)\n",
    "                for i in range(len(path)-1):\n",
    "                    edges.append(\n",
    "                        (\n",
    "                            path[i],\n",
    "                            path[i+1]\n",
    "                        )\n",
    "                    )\n",
    "\n",
    "        self._simple_g = nx.Graph()\n",
    "        self._simple_g.add_nodes_from(nodes)\n",
    "        self._simple_g.add_edges_from(edges)\n",
    "        \n",
    "    \n",
    "    def _return_shortest_clean_path(self, start, end):\n",
    "        \n",
    "        \"\"\"Returns cleaned shortest path with no intermediate hops\"\"\"\n",
    "        \n",
    "        path = self.return_shortest_path(start, end)\n",
    "        out_path = []\n",
    "        for element in path:\n",
    "            if len(element) < 2:\n",
    "                out_path.append(element)\n",
    "        return out_path\n",
    "    \n",
    "    def _return_neighbors(self, position=None):\n",
    "        \n",
    "        \"\"\"Returns all neighbor elements of a\"\"\"\n",
    "        \n",
    "        neighbors = []\n",
    "        distances = []\n",
    "        \n",
    "        if not position:\n",
    "            position = self._cc\n",
    "        \n",
    "        for neighbor in self._simple_g.neighbors(position):\n",
    "            distances.append(nx.shortest_path_length(self._g, self._cc, neighbor))\n",
    "            neighbors.append(neighbor)\n",
    "        \n",
    "        return list(neighbors), distances\n",
    "    \n",
    "    # Public methods\n",
    "    \n",
    "    def return_shortest_path(self, start, end):\n",
    "        \n",
    "        \"\"\"Returns the shortest path steps as list.\"\"\"\n",
    "        \n",
    "        return nx.shortest_path(self._g, start, end)\n",
    "        \n",
    "    \n",
    "    def return_shortest_path_len(self, start, end):\n",
    "        \n",
    "        \"\"\"Returns the shortest path length.\"\"\"\n",
    "        \n",
    "        return nx.shortest_path_length(self._g, start, end)\n",
    "\n",
    "    \n",
    "    def return_neighboring_open_keys(self):\n",
    "    \n",
    "        alphabet = \"\"\n",
    "        for char in data:\n",
    "            if char not in \" .#\\n\":\n",
    "                alphabet += char\n",
    "    \n",
    "        destinations = list(nav._map_items[\"keys\"].keys())\n",
    "        cc_bag_of_paths = []\n",
    "        cc_destinations = []\n",
    "        cc_distances = []\n",
    "\n",
    "        bag_of_keys = []\n",
    "\n",
    "        for destination in [x for x in destinations if x not in self._keys]:\n",
    "            cc_bag_of_paths.append(nx.shortest_path(self._simple_g, self._cc, destination))\n",
    "\n",
    "        for path in cc_bag_of_paths:\n",
    "            for element in path:\n",
    "\n",
    "                # skip first one\n",
    "                if element == self._cc:\n",
    "                    continue\n",
    "                \n",
    "                # skip the ultra starting position\n",
    "                if element == \"@\":\n",
    "                    continue\n",
    "                    \n",
    "                # skip keys that have already been collected\n",
    "                if element in self._keys:\n",
    "                    continue\n",
    "\n",
    "                # if element is an unlocked door\n",
    "                if element == str.upper(element):\n",
    "                    if str.lower(element) in self._keys:\n",
    "                        continue\n",
    "                    else:\n",
    "                        break\n",
    "\n",
    "                if element == str.lower(element) and element not in self._keys:\n",
    "                    if element not in cc_destinations:\n",
    "                        cc_destinations.append(element)\n",
    "                    break\n",
    "\n",
    "        for destination in cc_destinations:\n",
    "            cc_distances.append(nx.shortest_path_length(self._g, nav._cc, destination))\n",
    "        \n",
    "        return cc_destinations, cc_distances\n",
    "        \n",
    "    \n",
    "    def return_nearest_open_key(self):\n",
    "        \n",
    "        \"\"\"Returns the open key which is closest to where the player is.\"\"\"\n",
    "        \n",
    "        n, d = nav.return_neighboring_open_keys()\n",
    "        return n[d.index(min(d))], min(d)\n",
    "    \n",
    "    \n",
    "    def return_any_open_key(self):\n",
    "        \n",
    "        \"\"\"Returns the open key which is closest to where the player is.\"\"\"\n",
    "        \n",
    "        n, d = nav.return_neighboring_open_keys()\n",
    "        \n",
    "        r = random.randint(0, len(n)-1)\n",
    "        \n",
    "        return n[r], d[r]\n",
    "            \n",
    "    \n",
    "    def walk_maze(self):\n",
    "        \n",
    "        \"\"\"Collect all keys by taking the shortest possible paths.\"\"\"\n",
    "\n",
    "        while True:\n",
    "\n",
    "            # break if you found all keys\n",
    "            if len(self._keys) == len(self._map_items[\"keys\"]):\n",
    "                print(f\"Alright, after walking {self._d} steps, I have all my keys.\")\n",
    "                break\n",
    "\n",
    "            n, d = self.return_nearest_open_key()\n",
    "            \n",
    "            print(f\"Go to {n}, which takes me {d} steps. Already walked {self._d}\")\n",
    "            \n",
    "            self._cc = n\n",
    "            self._keys.append(n)\n",
    "            self._d += d\n",
    "            \n",
    "        return self._d\n",
    "    \n",
    "    def random_walk_maze(self):\n",
    "        \n",
    "        \"\"\"Collect all keys by taking the shortest possible paths.\"\"\"\n",
    "\n",
    "        while True:\n",
    "\n",
    "            # break if you found all keys\n",
    "            if len(self._keys) == len(self._map_items[\"keys\"]):\n",
    "                break\n",
    "\n",
    "            n, d = self.return_any_open_key()\n",
    "            \n",
    "            self._cc = n\n",
    "            self._keys.append(n)\n",
    "            self._d += d\n",
    "            \n",
    "        return self._d\n",
    "    \n",
    "    def reset(self):\n",
    "        self._keys = []\n",
    "        self._d = 0\n",
    "        self._cc = \"@\""
   ]
  },
  {
   "cell_type": "markdown",
   "metadata": {},
   "source": [
    "## Testing"
   ]
  },
  {
   "cell_type": "code",
   "execution_count": 37,
   "metadata": {
    "ExecuteTime": {
     "end_time": "2019-12-20T13:02:14.869648Z",
     "start_time": "2019-12-20T13:02:14.865674Z"
    }
   },
   "outputs": [],
   "source": [
    "data = \"\"\"#########\n",
    "#b.A.@.a#\n",
    "#########\"\"\""
   ]
  },
  {
   "cell_type": "code",
   "execution_count": 44,
   "metadata": {
    "ExecuteTime": {
     "end_time": "2019-12-20T13:05:04.229680Z",
     "start_time": "2019-12-20T13:05:04.225689Z"
    }
   },
   "outputs": [],
   "source": [
    "data = \"\"\"########################\n",
    "#f.D.E.e.C.b.A.@.a.B.c.#\n",
    "######################.#\n",
    "#d.....................#\n",
    "########################\"\"\""
   ]
  },
  {
   "cell_type": "code",
   "execution_count": 51,
   "metadata": {
    "ExecuteTime": {
     "end_time": "2019-12-20T13:10:59.418860Z",
     "start_time": "2019-12-20T13:10:59.414863Z"
    }
   },
   "outputs": [],
   "source": [
    "data = \"\"\"#################\n",
    "#i.G..c...e..H.p#\n",
    "########.########\n",
    "#j.A..b...f..D.o#\n",
    "########@########\n",
    "#k.E..a...g..B.n#\n",
    "########.########\n",
    "#l.F..d...h..C.m#\n",
    "#################\"\"\""
   ]
  },
  {
   "cell_type": "code",
   "execution_count": 54,
   "metadata": {
    "ExecuteTime": {
     "end_time": "2019-12-20T13:12:19.799476Z",
     "start_time": "2019-12-20T13:12:19.795469Z"
    }
   },
   "outputs": [],
   "source": [
    "data = \"\"\"########################\n",
    "#@..............ac.GI.b#\n",
    "###d#e#f################\n",
    "###A#B#C################\n",
    "###g#h#i################\n",
    "########################\"\"\""
   ]
  },
  {
   "cell_type": "code",
   "execution_count": 121,
   "metadata": {
    "ExecuteTime": {
     "end_time": "2019-12-20T14:14:21.088014Z",
     "start_time": "2019-12-20T14:14:12.506018Z"
    },
    "scrolled": true
   },
   "outputs": [
    {
     "name": "stdout",
     "output_type": "stream",
     "text": [
      "Welcome to NAVIGATOR!\n",
      "\n",
      "\n",
      " _______              .__              __                \n",
      " \\      \\ _____ ___  _|__| _________ _/  |_  ___________ \n",
      " /   |   \\\\__  \\\\  \\/ /  |/ ___\\__  \\\\   __\\/  _ \\_  __ \\\n",
      "/    |    \\/ __ \\\\   /|  / /_/  > __ \\|  | (  <_> )  | \\/\n",
      "\\____|__  (____  /\\_/ |__\\___  (____  /__|  \\____/|__|   \n",
      "        \\/     \\/       /_____/     \\/                   \n",
      "\n",
      "\n",
      "You can use the _simple_graph object to see neighboring keys\n",
      "and doors, or you can use the _g object to explor the complete graph.\n"
     ]
    }
   ],
   "source": [
    "nav = Navigator(data=data)"
   ]
  },
  {
   "cell_type": "code",
   "execution_count": 123,
   "metadata": {
    "ExecuteTime": {
     "end_time": "2019-12-20T14:17:32.804368Z",
     "start_time": "2019-12-20T14:17:32.310386Z"
    }
   },
   "outputs": [
    {
     "name": "stdout",
     "output_type": "stream",
     "text": [
      "Go to r, which takes me 16 steps. Already walked 0\n",
      "Go to l, which takes me 40 steps. Already walked 16\n",
      "Go to b, which takes me 14 steps. Already walked 56\n",
      "Go to p, which takes me 96 steps. Already walked 70\n",
      "Go to q, which takes me 30 steps. Already walked 166\n",
      "Go to f, which takes me 16 steps. Already walked 196\n",
      "Go to x, which takes me 26 steps. Already walked 212\n",
      "Go to t, which takes me 180 steps. Already walked 238\n",
      "Go to h, which takes me 54 steps. Already walked 418\n",
      "Go to g, which takes me 264 steps. Already walked 472\n",
      "Go to k, which takes me 290 steps. Already walked 736\n",
      "Go to m, which takes me 324 steps. Already walked 1026\n",
      "Go to e, which takes me 66 steps. Already walked 1350\n",
      "Go to j, which takes me 286 steps. Already walked 1416\n",
      "Go to u, which takes me 14 steps. Already walked 1702\n",
      "Go to d, which takes me 416 steps. Already walked 1716\n",
      "Go to s, which takes me 460 steps. Already walked 2132\n",
      "Go to c, which takes me 492 steps. Already walked 2592\n",
      "Go to y, which takes me 10 steps. Already walked 3084\n",
      "Go to i, which takes me 16 steps. Already walked 3094\n",
      "Go to v, which takes me 28 steps. Already walked 3110\n",
      "Go to w, which takes me 602 steps. Already walked 3138\n",
      "Go to n, which takes me 616 steps. Already walked 3740\n",
      "Go to a, which takes me 26 steps. Already walked 4356\n",
      "Go to o, which takes me 90 steps. Already walked 4382\n",
      "Go to z, which takes me 26 steps. Already walked 4472\n",
      "Alright, after walking 4498 steps, I have all my keys.\n"
     ]
    },
    {
     "data": {
      "text/plain": [
       "4498"
      ]
     },
     "execution_count": 123,
     "metadata": {},
     "output_type": "execute_result"
    }
   ],
   "source": [
    "nav.walk_maze()"
   ]
  },
  {
   "cell_type": "markdown",
   "metadata": {
    "ExecuteTime": {
     "end_time": "2019-12-20T12:49:30.805665Z",
     "start_time": "2019-12-20T12:49:30.786680Z"
    }
   },
   "source": [
    "## Further steps\n",
    "\n",
    "Make a simulator that does not select by `min` but tries every element of the destination list (`cc_destinations`). Calculate the whole thing trough and store the result in an output list. Then, finally, take the smallest element from that list.\n",
    "\n",
    "Test this approach with: \n",
    "\n",
    "```python\n",
    "data = \"\"\"########################\n",
    "#f.D.E.e.C.b.A.@.a.B.c.#\n",
    "######################.#\n",
    "#d.....................#\n",
    "########################\"\"\"\n",
    "```"
   ]
  },
  {
   "cell_type": "markdown",
   "metadata": {},
   "source": [
    "**Do not repeat the same shit over and over again:** Already submitted 2725, 2724 (original). Corrected: 4498"
   ]
  },
  {
   "cell_type": "code",
   "execution_count": 131,
   "metadata": {
    "ExecuteTime": {
     "end_time": "2019-12-20T18:35:11.067895Z",
     "start_time": "2019-12-20T18:35:11.023906Z"
    }
   },
   "outputs": [],
   "source": [
    "def parseInput(input=data):\n",
    "    maze = {}\n",
    "    goals = {}\n",
    "    for y,row in enumerate(input.split('\\n')):\n",
    "        for x,cell in enumerate(row):\n",
    "            p = complex(x,y)\n",
    "            maze[p] = cell\n",
    "            if cell in '#.': continue\n",
    "            goals[cell] = p\n",
    "    return maze, goals\n",
    "\n",
    "def findLinks(maze, start):\n",
    "    links = {}\n",
    "    walk = defaultdict(lambda:[99999,{}])\n",
    "    walk[start] = (0,set())\n",
    "    next = [(start,set())]\n",
    "\n",
    "    for step in count(1):\n",
    "        if len(next)==0: break\n",
    "        cur,next = next,[]\n",
    "        for p,ds in cur:\n",
    "            for d in [1,1j,-1,-1j]:\n",
    "                c = maze[p+d]\n",
    "                if c == '#' or walk[p+d][0]<=step: continue\n",
    "                if c.islower():\n",
    "                    links[c] = (step,ds)\n",
    "                nds = ds\n",
    "                if c.isupper():\n",
    "                    nds = nds | {c.lower()}\n",
    "                walk[p+d] = (step,nds)\n",
    "                next.append((p+d,nds))\n",
    "    return links # naturally sorted by distance"
   ]
  },
  {
   "cell_type": "code",
   "execution_count": 137,
   "metadata": {
    "ExecuteTime": {
     "end_time": "2019-12-20T18:36:59.463031Z",
     "start_time": "2019-12-20T18:36:59.419255Z"
    }
   },
   "outputs": [],
   "source": [
    "def findShortest1():\n",
    "    maze, goals = parseInput(input=data)\n",
    "\n",
    "    allKeys = {k for k in goals if k.islower()}\n",
    "    links = {'@': findLinks(maze, goals['@'])}\n",
    "    for k in allKeys:\n",
    "        links[k] = findLinks(maze, goals[k])\n",
    "\n",
    "    cache = {}\n",
    "    def walk(name, needKeys):\n",
    "        if len(needKeys)==0:\n",
    "            return 0\n",
    "\n",
    "        key = name + ''.join(needKeys)\n",
    "        if key in cache:\n",
    "            return cache[key]\n",
    "\n",
    "        shortest = float('inf')\n",
    "        for k in needKeys:\n",
    "            l,doors = links[name][k]\n",
    "            if l >= shortest: continue # too long to try\n",
    "            if not doors.isdisjoint(needKeys): continue # can't open doors\n",
    "            tail = walk(k, needKeys - {k})\n",
    "            if shortest > l + tail: shortest = l + tail\n",
    "        cache[key] = shortest\n",
    "        return shortest\n",
    "    \n",
    "    res = walk('@', allKeys)\n",
    "    print('cached',len(cache))\n",
    "    return res"
   ]
  },
  {
   "cell_type": "code",
   "execution_count": 139,
   "metadata": {
    "ExecuteTime": {
     "end_time": "2019-12-20T18:37:28.694397Z",
     "start_time": "2019-12-20T18:37:24.836399Z"
    }
   },
   "outputs": [
    {
     "name": "stdout",
     "output_type": "stream",
     "text": [
      "cached 111072\n"
     ]
    },
    {
     "data": {
      "text/plain": [
       "3856"
      ]
     },
     "execution_count": 139,
     "metadata": {},
     "output_type": "execute_result"
    }
   ],
   "source": [
    "from collections import defaultdict\n",
    "from itertools import count\n",
    "\n",
    "findShortest1()"
   ]
  }
 ],
 "metadata": {
  "kernelspec": {
   "display_name": "Python 3",
   "language": "python",
   "name": "python3"
  },
  "language_info": {
   "codemirror_mode": {
    "name": "ipython",
    "version": 3
   },
   "file_extension": ".py",
   "mimetype": "text/x-python",
   "name": "python",
   "nbconvert_exporter": "python",
   "pygments_lexer": "ipython3",
   "version": "3.6.6"
  }
 },
 "nbformat": 4,
 "nbformat_minor": 2
}
