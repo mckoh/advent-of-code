{
 "cells": [
  {
   "cell_type": "markdown",
   "metadata": {},
   "source": [
    "# Day 10 Challenge"
   ]
  },
  {
   "cell_type": "markdown",
   "metadata": {},
   "source": [
    "The map indicates whether each position is empty (.) or contains an asteroid (#). The asteroids are much smaller than they appear on the map, and every asteroid is exactly in the center of its marked position. The asteroids can be described with X,Y coordinates where X is the distance from the left edge and Y is the distance from the top edge (so the top-left corner is 0,0 and the position immediately to its right is 1,0)."
   ]
  },
  {
   "cell_type": "markdown",
   "metadata": {},
   "source": [
    "```\n",
    "#.........\n",
    "...A......\n",
    "...B..a...\n",
    ".EDCG....a\n",
    "..F.c.b...\n",
    ".....c....\n",
    "..efd.c.gb\n",
    ".......c..\n",
    "....f...c.\n",
    "...e..d..c\n",
    "```"
   ]
  },
  {
   "cell_type": "markdown",
   "metadata": {},
   "source": [
    "Bad constellations (columns/rows):\n",
    "\n",
    "* +3/+1 (A)\n",
    "* +3/+2 (B)\n",
    "* +1/+3 (E)\n",
    "* +2/+3 (D)\n",
    "* +3/+3 (C)\n",
    "* +4/+3 (G)"
   ]
  },
  {
   "cell_type": "code",
   "execution_count": 539,
   "metadata": {},
   "outputs": [],
   "source": [
    "import pandas as pd\n",
    "import matplotlib.pyplot as plt\n",
    "from math import degrees, atan, pi\n",
    "from numpy import sum\n",
    "\n",
    "class StationDetector:\n",
    "    \n",
    "    def __init__(self):\n",
    "        self._map = None\n",
    "        self._asteroid_locations = []\n",
    "        self._maplimit = None\n",
    "        self._df = None\n",
    "        \n",
    "        # part 1\n",
    "        self._asteroid_angles = {}\n",
    "        self._asteroid_asteroids = {}\n",
    "        self._asteroid_radius = {}\n",
    "        \n",
    "        # part 2\n",
    "        self._shooting_df = None\n",
    "        \n",
    "    def load_data(self, file_location):\n",
    "        with open(file_location, \"r\") as file:\n",
    "            self._map = file.read()\n",
    "        self._map = self._map.strip()\n",
    "    \n",
    "    def extract_asteroid_locations(self):\n",
    "        line_count = 0\n",
    "        for line in self._map.split(\"\\n\"):\n",
    "            column_count = 0\n",
    "            for item in list(line):\n",
    "                if item == \"#\":\n",
    "                    self._asteroid_locations.append((column_count, line_count))\n",
    "                column_count += 1\n",
    "            line_count += 1\n",
    "        self._maplimit = (column_count, line_count)\n",
    "        self._df = pd.DataFrame(self._asteroid_locations, columns=[\"x\", \"y\"])\n",
    "        \n",
    "    def plot_map(self, mark=None, target=None):\n",
    "        plt.figure(figsize=(10,10))\n",
    "        if mark:\n",
    "            plt.scatter(x=[mark[0]], y=[mark[1]], marker=\"o\", color=\"orange\", s=120)\n",
    "        if target:\n",
    "            plt.scatter(x=[target[0]], y=[target[1]], marker=\"o\", color=\"lightgreen\", s=120)\n",
    "            plt.plot([mark[0], target[0]], [mark[1], target[1]], color=\"red\")\n",
    "        \n",
    "        plt.scatter(x=self._df.x, y=self._df.y, marker=\"x\", color=\"black\", s=30)\n",
    "        \n",
    "    def collision_detection(self):\n",
    "        \n",
    "        i = 0\n",
    "        angle_dict = {}\n",
    "        radius_dict = {}\n",
    "\n",
    "        for i in range(len(self._asteroid_locations)):\n",
    "\n",
    "            list_copy = self._asteroid_locations.copy()\n",
    "            element = list_copy[i]\n",
    "            list_copy.remove(element)\n",
    "            nelement = list_copy\n",
    "\n",
    "            # current element\n",
    "            x = element[0]\n",
    "            y = element[1]\n",
    "\n",
    "            angle_dict[element] = []\n",
    "            radius_dict[element] = []\n",
    "            self._asteroid_asteroids[element] = nelement\n",
    "\n",
    "            for asteroid in nelement:\n",
    "                xi = asteroid[0]-x\n",
    "                yi = y-asteroid[1]\n",
    "                ai = round(atan2(xi, yi),6)\n",
    "                \n",
    "                if ai < 0:\n",
    "                    ai = pi + (pi-abs(ai))\n",
    "                \n",
    "                ri = (xi**2+yi**2)**0.5\n",
    "                angle_dict[element].append(ai)\n",
    "                radius_dict[element].append(ri)\n",
    "\n",
    "        self._asteroid_angles = angle_dict\n",
    "        self._asteroid_radius = radius_dict\n",
    "            \n",
    "    \n",
    "    def count_collisions(self):\n",
    "        \n",
    "        self._asteroid_angles_cnt = {}\n",
    "        \n",
    "        for key in self._asteroid_angles.keys():\n",
    "            \n",
    "            outlist = []\n",
    "            \n",
    "            for value in self._asteroid_angles[key]:\n",
    "                if value not in outlist:\n",
    "                    outlist.append(value)\n",
    "            \n",
    "            self._asteroid_angles_cnt[key] = len(outlist)\n",
    "    \n",
    "    def return_max_collisions(self):\n",
    "        l = []\n",
    "        k = []\n",
    "        for key in self._asteroid_angles_cnt.keys():\n",
    "            l.append(self._asteroid_angles_cnt[key])\n",
    "            k.append(key)\n",
    "            \n",
    "        return max(l), k[l.index(max(l))]\n",
    "    \n",
    "\n",
    "    def detect_shooting_order(self, asteroid=None, cutoff=400):\n",
    "        self._shooting_df = pd.DataFrame({\n",
    "            \"radius\": sd._asteroid_radius[asteroid],\n",
    "            \"angle\": sd._asteroid_angles[asteroid],\n",
    "            \"target\": sd._asteroid_asteroids[asteroid]\n",
    "        })\n",
    "        \n",
    "        self._shooting_df.index=sd._asteroid_asteroids[asteroid]\n",
    "        self._shooting_df = self._shooting_df.sort_values([\"angle\", \"radius\"])\n",
    "        \n",
    "        angles = self._shooting_df[\"angle\"].values.copy()\n",
    "        targets = self._shooting_df[\"target\"].values.copy()\n",
    "        \n",
    "        shoot_list = []\n",
    "\n",
    "        ca = None\n",
    "        j = 0\n",
    "        while True:\n",
    "\n",
    "            if len(shoot_list) == len(targets):\n",
    "                break\n",
    "            \n",
    "            if j == cutoff:\n",
    "                break\n",
    "\n",
    "            for i in range(len(angles)):\n",
    "\n",
    "                if angles[i] != ca:\n",
    "                    shoot_list.append(targets[i])\n",
    "                    ca = angles[i]\n",
    "                    angles[i] = -1.0\n",
    "\n",
    "                i += 1\n",
    "            j += 1\n",
    "        return 100*shoot_list[199][0]+shoot_list[199][1], shoot_list[199]"
   ]
  },
  {
   "cell_type": "markdown",
   "metadata": {},
   "source": [
    "## Part 1"
   ]
  },
  {
   "cell_type": "markdown",
   "metadata": {},
   "source": [
    "Test files are:\n",
    "* `day10.testa` (Best is 5,8 with 33 other asteroids detected)\n",
    "* `day10.testb` (Best is 1,2 with 35 other asteroids detected)\n",
    "* `day10.testc` (Best is 6,3 with 41 other asteroids detected)\n",
    "* `day10.testd` (Best is 11,13 with 210 other asteroids detected)"
   ]
  },
  {
   "cell_type": "code",
   "execution_count": 540,
   "metadata": {},
   "outputs": [
    {
     "name": "stdout",
     "output_type": "stream",
     "text": [
      "Best location for station is (31, 20) with 319 possible observations.\n"
     ]
    },
    {
     "data": {
      "image/png": "[encoded data removed]",
      "text/plain": [
       "<Figure size 720x720 with 1 Axes>"
      ]
     },
     "metadata": {
      "needs_background": "light"
     },
     "output_type": "display_data"
    }
   ],
   "source": [
    "sd = StationDetector()\n",
    "\n",
    "sd.load_data(\"day10.txt\")\n",
    "# sd.load_data(\"day10.testd\")\n",
    "\n",
    "sd.extract_asteroid_locations()\n",
    "sd.collision_detection()\n",
    "sd.count_collisions()\n",
    "max_collisions, asteroid = sd.return_max_collisions()\n",
    "\n",
    "print(f\"Best location for station is {asteroid} with {max_collisions} possible observations.\")\n",
    "\n",
    "sd.plot_map(mark=asteroid)"
   ]
  },
  {
   "cell_type": "markdown",
   "metadata": {},
   "source": [
    "## Part 2"
   ]
  },
  {
   "cell_type": "code",
   "execution_count": 541,
   "metadata": {},
   "outputs": [
    {
     "name": "stdout",
     "output_type": "stream",
     "text": [
      "The 200th object will be (5, 17), which means you can enter 517.\n"
     ]
    },
    {
     "data": {
      "image/png": "[encoded data removed]",
      "text/plain": [
       "<Figure size 720x720 with 1 Axes>"
      ]
     },
     "metadata": {
      "needs_background": "light"
     },
     "output_type": "display_data"
    }
   ],
   "source": [
    "insertion_value, th_object = sd.detect_shooting_order(asteroid, cutoff=1000)\n",
    "\n",
    "print(f\"The 200th object will be {th_object}, which means you can enter {insertion_value}.\")\n",
    "\n",
    "sd.plot_map(mark=asteroid, target=th_object)"
   ]
  },
  {
   "cell_type": "code",
   "execution_count": 4,
   "metadata": {
    "ExecuteTime": {
     "end_time": "2019-12-11T16:08:01.273704Z",
     "start_time": "2019-12-11T16:08:01.261787Z"
    }
   },
   "outputs": [],
   "source": [
    "from math import atan2, pi"
   ]
  },
  {
   "cell_type": "code",
   "execution_count": 6,
   "metadata": {
    "ExecuteTime": {
     "end_time": "2019-12-11T16:08:18.053997Z",
     "start_time": "2019-12-11T16:08:18.019358Z"
    }
   },
   "outputs": [
    {
     "name": "stdout",
     "output_type": "stream",
     "text": [
      "0.7853981633974483\n",
      "-0.7853981633974483\n",
      "2.356194490192345\n",
      "-2.356194490192345\n"
     ]
    }
   ],
   "source": [
    "print(atan2(4,4))\n",
    "print(atan2(-4,4))\n",
    "print(atan2(4,-4))\n",
    "print(atan2(-4,-4))"
   ]
  },
  {
   "cell_type": "code",
   "execution_count": 7,
   "metadata": {
    "ExecuteTime": {
     "end_time": "2019-12-11T16:09:01.737812Z",
     "start_time": "2019-12-11T16:09:01.686409Z"
    }
   },
   "outputs": [
    {
     "data": {
      "text/plain": [
       "0.7853981633974483"
      ]
     },
     "execution_count": 7,
     "metadata": {},
     "output_type": "execute_result"
    }
   ],
   "source": [
    "pi/4"
   ]
  },
  {
   "cell_type": "code",
   "execution_count": 8,
   "metadata": {
    "ExecuteTime": {
     "end_time": "2019-12-11T16:11:40.219092Z",
     "start_time": "2019-12-11T16:11:38.946399Z"
    }
   },
   "outputs": [],
   "source": [
    "from matplotlib import pyplot as plt"
   ]
  },
  {
   "cell_type": "code",
   "execution_count": 18,
   "metadata": {
    "ExecuteTime": {
     "end_time": "2019-12-11T16:17:02.112514Z",
     "start_time": "2019-12-11T16:17:01.502437Z"
    }
   },
   "outputs": [
    {
     "data": {
      "image/png": "[encoded data removed]",
      "text/plain": [
       "<Figure size 432x288 with 1 Axes>"
      ]
     },
     "metadata": {
      "needs_background": "light"
     },
     "output_type": "display_data"
    }
   ],
   "source": [
    "plt.scatter(x=[-4,-4,0,4,4], y=[-4,4,0,-4,4])\n",
    "plt.vlines(x=0, ymax=8, ymin=0)\n",
    "plt.show()"
   ]
  }
 ],
 "metadata": {
  "kernelspec": {
   "display_name": "Python 3",
   "language": "python",
   "name": "python3"
  },
  "language_info": {
   "codemirror_mode": {
    "name": "ipython",
    "version": 3
   },
   "file_extension": ".py",
   "mimetype": "text/x-python",
   "name": "python",
   "nbconvert_exporter": "python",
   "pygments_lexer": "ipython3",
   "version": "3.6.6"
  }
 },
 "nbformat": 4,
 "nbformat_minor": 2
}
