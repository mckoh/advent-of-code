{
 "cells": [
  {
   "cell_type": "markdown",
   "metadata": {},
   "source": [
    "# Day 5 Challenge"
   ]
  },
  {
   "cell_type": "markdown",
   "metadata": {},
   "source": [
    "## Data Loading & Test Cases"
   ]
  },
  {
   "cell_type": "code",
   "execution_count": 1,
   "metadata": {},
   "outputs": [],
   "source": [
    "sep = \",\"\n",
    "\n",
    "with open(\"day5.txt\", \"r\") as file:\n",
    "    input_text = file.read()\n",
    "\n",
    "input_list = input_text.split(sep)\n",
    "input_list = list(map(int, input_list))"
   ]
  },
  {
   "cell_type": "code",
   "execution_count": 52,
   "metadata": {
    "ExecuteTime": {
     "end_time": "2019-12-05T05:59:23.867001Z",
     "start_time": "2019-12-05T05:59:23.861980Z"
    }
   },
   "outputs": [],
   "source": [
    "test_list = [1002,4,3,4,33]"
   ]
  },
  {
   "cell_type": "code",
   "execution_count": 2,
   "metadata": {},
   "outputs": [],
   "source": [
    "def get_instructionset(input):\n",
    "    \"\"\"Returns opcode and parameters of a directive\"\"\"\n",
    "    input_txt = str(input)\n",
    "    opcode = int(input_txt[-2:])\n",
    "    parameter_txt = input_txt[::-1][2:]\n",
    "    parameter_len = len(parameter_txt)\n",
    "\n",
    "    # iterate over parameters\n",
    "    parameter_position = 0\n",
    "    parameters = []\n",
    "    \n",
    "    while True:\n",
    "        parameters.append(int(parameter_txt[parameter_position]))\n",
    "        parameter_position += 1\n",
    "        if parameter_position == parameter_len:\n",
    "            break\n",
    "\n",
    "    return [opcode] + parameters\n",
    "\n",
    "def get_parameter(iterator, parameter_position, parameter_instruction, program):\n",
    "    if parameter_instruction == 0:\n",
    "        return program[program[iterator+parameter_position]]\n",
    "    elif parameter_instruction == 1:\n",
    "        return program[iterator+parameter_position]\n",
    "    else:\n",
    "        raise ValueError(\"Parameter instruction not allowed.\")\n",
    "\n",
    "def calculate(command, source_a, source_b):\n",
    "    if command == 1:\n",
    "        return source_a + source_b\n",
    "    elif command == 2:\n",
    "        return source_a * source_b"
   ]
  },
  {
   "cell_type": "markdown",
   "metadata": {},
   "source": [
    "This instruction **multiplies its first two parameters**. The first parameter, 4 in position mode, works like it did before - its value is the value stored at address 4 (33). The second parameter, 3 in immediate mode, simply has value 3. The result of this operation, 33 * 3 = 99, is written according to the third parameter, 4 in position mode, which also works like it did before - 99 is written to address 4.\n",
    "\n",
    "* 0 = position mode (take value at indicated position in programme)\n",
    "* 1 = value mode (take value itself)"
   ]
  },
  {
   "cell_type": "markdown",
   "metadata": {},
   "source": [
    "## Part 1"
   ]
  },
  {
   "cell_type": "code",
   "execution_count": 148,
   "metadata": {
    "ExecuteTime": {
     "end_time": "2019-12-05T08:24:36.124766Z",
     "start_time": "2019-12-05T08:24:36.119782Z"
    }
   },
   "outputs": [],
   "source": [
    "a = [3,12,6,12,15,1,13,14,13,4,13,99,-1,0,1,9]"
   ]
  },
  {
   "cell_type": "code",
   "execution_count": 3,
   "metadata": {},
   "outputs": [
    {
     "ename": "StdinNotImplementedError",
     "evalue": "raw_input was called, but this frontend does not support input requests.",
     "output_type": "error",
     "traceback": [
      "\u001b[1;31m---------------------------------------------------------------------------\u001b[0m",
      "\u001b[1;31mStdinNotImplementedError\u001b[0m                  Traceback (most recent call last)",
      "\u001b[1;32m<ipython-input-3-84df64416a5e>\u001b[0m in \u001b[0;36m<module>\u001b[1;34m\u001b[0m\n\u001b[0;32m     27\u001b[0m     \u001b[1;32melif\u001b[0m \u001b[0minitiator\u001b[0m \u001b[1;33m==\u001b[0m \u001b[1;36m3\u001b[0m\u001b[1;33m:\u001b[0m\u001b[1;33m\u001b[0m\u001b[0m\n\u001b[0;32m     28\u001b[0m         \u001b[0mstep\u001b[0m \u001b[1;33m=\u001b[0m \u001b[1;36m2\u001b[0m\u001b[1;33m\u001b[0m\u001b[0m\n\u001b[1;32m---> 29\u001b[1;33m         \u001b[0mused_programme\u001b[0m\u001b[1;33m[\u001b[0m\u001b[0mused_programme\u001b[0m\u001b[1;33m[\u001b[0m\u001b[0miterator\u001b[0m\u001b[1;33m+\u001b[0m\u001b[1;36m1\u001b[0m\u001b[1;33m]\u001b[0m\u001b[1;33m]\u001b[0m \u001b[1;33m=\u001b[0m \u001b[0mint\u001b[0m\u001b[1;33m(\u001b[0m\u001b[0minput\u001b[0m\u001b[1;33m(\u001b[0m\u001b[1;34m\"Please enter a value \"\u001b[0m\u001b[1;33m)\u001b[0m\u001b[1;33m)\u001b[0m\u001b[1;33m\u001b[0m\u001b[0m\n\u001b[0m\u001b[0;32m     30\u001b[0m \u001b[1;33m\u001b[0m\u001b[0m\n\u001b[0;32m     31\u001b[0m     \u001b[1;31m# output\u001b[0m\u001b[1;33m\u001b[0m\u001b[1;33m\u001b[0m\u001b[0m\n",
      "\u001b[1;32mC:\\Python\\Python36\\lib\\site-packages\\ipykernel\\kernelbase.py\u001b[0m in \u001b[0;36mraw_input\u001b[1;34m(self, prompt)\u001b[0m\n\u001b[0;32m    846\u001b[0m         \u001b[1;32mif\u001b[0m \u001b[1;32mnot\u001b[0m \u001b[0mself\u001b[0m\u001b[1;33m.\u001b[0m\u001b[0m_allow_stdin\u001b[0m\u001b[1;33m:\u001b[0m\u001b[1;33m\u001b[0m\u001b[0m\n\u001b[0;32m    847\u001b[0m             raise StdinNotImplementedError(\n\u001b[1;32m--> 848\u001b[1;33m                 \u001b[1;34m\"raw_input was called, but this frontend does not support input requests.\"\u001b[0m\u001b[1;33m\u001b[0m\u001b[0m\n\u001b[0m\u001b[0;32m    849\u001b[0m             )\n\u001b[0;32m    850\u001b[0m         return self._input_request(str(prompt),\n",
      "\u001b[1;31mStdinNotImplementedError\u001b[0m: raw_input was called, but this frontend does not support input requests."
     ]
    }
   ],
   "source": [
    "iterator = 0\n",
    "used_programme = input_list.copy()\n",
    "\n",
    "while True:\n",
    "    \n",
    "    # current position in programme\n",
    "    initiator = used_programme[iterator]\n",
    "    \n",
    "    # some debugging lines\n",
    "    # print(\"----------------------------------------------\")\n",
    "    # print(\"Initiator is \" + str(initiator) + \"\\n\")<\n",
    "    \n",
    "    # deal with the various initiators\n",
    "    # initiator is the zero position of a program part\n",
    "    \n",
    "    # addidtion\n",
    "    if initiator == 1:\n",
    "        step = 4\n",
    "        used_programme[used_programme[iterator+3]] = used_programme[used_programme[iterator+1]] + used_programme[used_programme[iterator+2]]\n",
    "    \n",
    "    # multiplication\n",
    "    elif initiator == 2:\n",
    "        step = 4\n",
    "        used_programme[used_programme[iterator+3]] = used_programme[used_programme[iterator+1]] * used_programme[used_programme[iterator+2]]\n",
    "    \n",
    "    # input\n",
    "    elif initiator == 3:\n",
    "        step = 2\n",
    "        used_programme[used_programme[iterator+1]] = int(input(\"Please enter a value \"))\n",
    "    \n",
    "    # output\n",
    "    elif initiator == 4:\n",
    "        step = 2\n",
    "        print(\"Print Value is \" + str(used_programme[used_programme[iterator+1]]))\n",
    "        \n",
    "        \n",
    "    # part 2 opcodes\n",
    "    elif initiator == 5:\n",
    "        par_a = used_programme[used_programme[iterator+1]]\n",
    "        par_b = used_programme[used_programme[iterator+2]]\n",
    "        if par_a != 0:\n",
    "            iterator = par_b\n",
    "            continue\n",
    "\n",
    "    elif initiator == 6:\n",
    "        par_a = used_programme[used_programme[iterator+1]]\n",
    "        par_b = used_programme[used_programme[iterator+2]]\n",
    "        if par_a == 0:\n",
    "            iterator = par_b\n",
    "            continue\n",
    "    \n",
    "    elif initiator == 7:\n",
    "        step = 4\n",
    "        par_a = used_programme[used_programme[iterator+1]]\n",
    "        par_b = used_programme[used_programme[iterator+2]]\n",
    "        output_position = used_programme[iterator+3]\n",
    "        if par_a < par_b:\n",
    "            used_programme[output_position] = 1\n",
    "        else:\n",
    "            used_programme[output_position] = 0\n",
    "    \n",
    "    elif initiator == 8:\n",
    "        step = 4\n",
    "        par_a = used_programme[used_programme[iterator+1]]\n",
    "        par_b = used_programme[used_programme[iterator+2]]\n",
    "        output_position = used_programme[iterator+3]\n",
    "        if par_a == par_b:\n",
    "            used_programme[output_position] = 1\n",
    "        else:\n",
    "            used_programme[output_position] = 0\n",
    "    \n",
    "    # program break code\n",
    "    elif initiator == 99:\n",
    "        print(\"Halt in position \" + str(iterator))\n",
    "        break\n",
    "        \n",
    "    elif initiator > 4 and initiator < 20:\n",
    "    \n",
    "        if initiator == 15:\n",
    "            par_a = used_programme[iterator+1]\n",
    "            par_b = used_programme[used_programme[iterator+2]]\n",
    "            if par_a != 0:\n",
    "                iterator = par_b\n",
    "                continue\n",
    "\n",
    "        elif initiator == 16:\n",
    "            par_a = used_programme[iterator+1]\n",
    "            par_b = used_programme[used_programme[iterator+2]]\n",
    "            if par_a == 0:\n",
    "                iterator = par_b\n",
    "                continue\n",
    "    \n",
    "    # parameter operations with leading 0 and 1\n",
    "    elif initiator > 20 and initiator < 1000:\n",
    "        \n",
    "        oc = int(str(initiator)[-2:])\n",
    "        pi = str(initiator)[:1]\n",
    "        \n",
    "        if oc in [3,4]:\n",
    "            step = 2\n",
    "            if pi == 0:\n",
    "                print(\"Print Value is \" + str(used_programme[used_programme[iterator+1]]))\n",
    "            elif pi == 1:\n",
    "                print(\"Print Value is \" + str(used_programme[iterator+1]))\n",
    "        else:\n",
    "            step = 4\n",
    "            par_a = used_programme[iterator+1]\n",
    "            par_b = used_programme[used_programme[iterator+2]]\n",
    "            output_position = used_programme[iterator+3]\n",
    "        \n",
    "            if oc == 1:\n",
    "                used_programme[output_position] = par_a + par_b\n",
    "            \n",
    "            elif oc == 2:\n",
    "                used_programme[output_position] = par_a * par_b\n",
    "            \n",
    "            elif oc == 5:\n",
    "                if par_a != 0:\n",
    "                    print(\"Directly to next itertation.\")\n",
    "                    iterator = par_b\n",
    "                    continue\n",
    "            elif oc == 6:\n",
    "                if par_a == 0:\n",
    "                    iterator = par_b\n",
    "                    print(\"Directly to next itertation.\")\n",
    "                    continue\n",
    "            elif oc == 7:\n",
    "                if par_a < par_b:\n",
    "                    used_programme[output_position] = 1\n",
    "                else:\n",
    "                    used_programme[output_position] = 0\n",
    "            elif oc == 8:\n",
    "                if par_a == par_b:\n",
    "                    used_programme[output_position] = 1\n",
    "                else:\n",
    "                    used_programme[output_position] = 0\n",
    "                \n",
    "    # parameter operations iwth leading 1 and 11\n",
    "    elif initiator > 1000:\n",
    "        step = 4\n",
    "        \n",
    "        oc = int(str(initiator)[-2:])\n",
    "        pi = int(str(initiator)[:-2])\n",
    "        \n",
    "        if pi == 11:\n",
    "            par_a = used_programme[iterator+1]\n",
    "            par_b = used_programme[iterator+2]\n",
    "            \n",
    "        elif pi == 10:\n",
    "            par_a = used_programme[used_programme[iterator+1]]\n",
    "            par_b = used_programme[iterator+2]\n",
    "            \n",
    "        elif pi == 1:\n",
    "            par_a = used_programme[iterator+1]\n",
    "            par_b = used_programme[used_programme[iterator+2]]\n",
    "            \n",
    "        elif pi == 0:\n",
    "            par_a = used_programme[used_programme[iterator+1]]\n",
    "            par_b = used_programme[used_programme[iterator+2]]\n",
    "        \n",
    "        output_position = used_programme[iterator+3]\n",
    "        \n",
    "        # make calculation\n",
    "        if oc == 1:\n",
    "            used_programme[output_position] = par_a + par_b\n",
    "        elif oc == 2:\n",
    "            used_programme[output_position] = par_a * par_b\n",
    "        elif oc == 8:\n",
    "            if par_a == par_b:\n",
    "                used_programme[output_position] = 1\n",
    "            else:\n",
    "                used_programme[output_position] = 0\n",
    "        elif oc == 5:\n",
    "            if par_a != 0:\n",
    "                iterator = par_b\n",
    "                continue\n",
    "        elif oc == 6:\n",
    "            if par_a == 0:\n",
    "                iterator = par_b\n",
    "                continue\n",
    "        elif oc == 7:\n",
    "            if par_a < par_b:\n",
    "                used_programme[output_position] = 1\n",
    "            else:\n",
    "                used_programme[output_position] = 0\n",
    "\n",
    "    iterator += step"
   ]
  },
  {
   "cell_type": "code",
   "execution_count": 166,
   "metadata": {
    "ExecuteTime": {
     "end_time": "2019-12-05T08:49:15.766298Z",
     "start_time": "2019-12-05T08:49:15.759316Z"
    }
   },
   "outputs": [
    {
     "data": {
      "text/plain": [
       "(5, '11')"
      ]
     },
     "execution_count": 166,
     "metadata": {},
     "output_type": "execute_result"
    }
   ],
   "source": [
    "initiator = 1105\n",
    "int(str(initiator)[-2:]), str(initiator)[:-2]"
   ]
  },
  {
   "cell_type": "markdown",
   "metadata": {},
   "source": [
    "## Part 2"
   ]
  },
  {
   "cell_type": "code",
   "execution_count": 217,
   "metadata": {
    "ExecuteTime": {
     "end_time": "2019-12-05T09:43:53.529002Z",
     "start_time": "2019-12-05T09:43:52.499756Z"
    },
    "scrolled": false
   },
   "outputs": [
    {
     "name": "stdout",
     "output_type": "stream",
     "text": [
      "Please enter a value 5\n",
      "Print Value is 12111395\n",
      "Halt in position 676\n"
     ]
    }
   ],
   "source": [
    "iterator = 0\n",
    "used_programme = input_list.copy()\n",
    "\n",
    "while True:\n",
    "    \n",
    "    # current position in programme\n",
    "    initiator = used_programme[iterator]\n",
    "    \n",
    "    # addidtion\n",
    "    if initiator == 1:\n",
    "        step = 4\n",
    "        used_programme[used_programme[iterator+3]] = used_programme[used_programme[iterator+1]] + used_programme[used_programme[iterator+2]]\n",
    "    \n",
    "    # multiplication\n",
    "    elif initiator == 2:\n",
    "        step = 4\n",
    "        used_programme[used_programme[iterator+3]] = used_programme[used_programme[iterator+1]] * used_programme[used_programme[iterator+2]]\n",
    "    \n",
    "    # input\n",
    "    elif initiator == 3:\n",
    "        step = 2\n",
    "        used_programme[used_programme[iterator+1]] = int(input(\"Please enter a value \"))\n",
    "    \n",
    "    # output\n",
    "    elif initiator == 4:\n",
    "        step = 2\n",
    "        print(\"Print Value is \" + str(used_programme[used_programme[iterator+1]]))\n",
    "        \n",
    "        \n",
    "    # part 2 opcodes\n",
    "    elif initiator == 5:\n",
    "        step = 3\n",
    "        par_a = used_programme[used_programme[iterator+1]]\n",
    "        par_b = used_programme[used_programme[iterator+2]]\n",
    "        if par_a != 0:\n",
    "            iterator = par_b\n",
    "            continue\n",
    "\n",
    "    elif initiator == 6:\n",
    "        step = 3\n",
    "        par_a = used_programme[used_programme[iterator+1]]\n",
    "        par_b = used_programme[used_programme[iterator+2]]\n",
    "        if par_a == 0:\n",
    "            iterator = par_b\n",
    "            continue\n",
    "    \n",
    "    elif initiator == 7:\n",
    "        step = 4\n",
    "        par_a = used_programme[used_programme[iterator+1]]\n",
    "        par_b = used_programme[used_programme[iterator+2]]\n",
    "        output_position = used_programme[iterator+3]\n",
    "        if par_a < par_b:\n",
    "            used_programme[output_position] = 1\n",
    "        else:\n",
    "            used_programme[output_position] = 0\n",
    "    \n",
    "    elif initiator == 8:\n",
    "        step = 4\n",
    "        par_a = used_programme[used_programme[iterator+1]]\n",
    "        par_b = used_programme[used_programme[iterator+2]]\n",
    "        output_position = used_programme[iterator+3]\n",
    "        if par_a == par_b:\n",
    "            used_programme[output_position] = 1\n",
    "        else:\n",
    "            used_programme[output_position] = 0\n",
    "    \n",
    "    # program break code\n",
    "    elif initiator == 99:\n",
    "        print(\"Halt in position \" + str(iterator))\n",
    "        break\n",
    "        \n",
    "    elif initiator > 4 and initiator < 20:\n",
    "    \n",
    "        if initiator == 15:\n",
    "            par_a = used_programme[iterator+1]\n",
    "            par_b = used_programme[used_programme[iterator+2]]\n",
    "            if par_a != 0:\n",
    "                iterator = par_b\n",
    "                continue\n",
    "\n",
    "        elif initiator == 16:\n",
    "            par_a = used_programme[iterator+1]\n",
    "            par_b = used_programme[used_programme[iterator+2]]\n",
    "            if par_a == 0:\n",
    "                iterator = par_b\n",
    "                continue\n",
    "    \n",
    "    # parameter operations with leading 0 and 1\n",
    "    elif initiator >= 100 and initiator < 1000:\n",
    "        \n",
    "        oc = int(str(initiator)[-2:])\n",
    "        pi = str(initiator)[:1]\n",
    "        \n",
    "        if oc in [3,4]:\n",
    "            step = 2\n",
    "            if pi == 0:\n",
    "                print(\"Print Value is \" + str(used_programme[used_programme[iterator+1]]))\n",
    "            elif pi == 1:\n",
    "                print(\"Print Value is \" + str(used_programme[iterator+1]))\n",
    "        else:\n",
    "            step = 4\n",
    "            par_a = used_programme[iterator+1]\n",
    "            par_b = used_programme[used_programme[iterator+2]]\n",
    "            output_position = used_programme[iterator+3]\n",
    "        \n",
    "            if oc == 1:\n",
    "                used_programme[output_position] = par_a + par_b\n",
    "            \n",
    "            elif oc == 2:\n",
    "                used_programme[output_position] = par_a * par_b\n",
    "            \n",
    "            elif oc == 5:\n",
    "                step = 3\n",
    "                if par_a != 0:\n",
    "                    iterator = par_b\n",
    "                    continue\n",
    "            elif oc == 6:\n",
    "                step = 3\n",
    "                if par_a == 0:\n",
    "                    iterator = par_b\n",
    "                    continue\n",
    "            elif oc == 7:\n",
    "                if par_a < par_b:\n",
    "                    used_programme[output_position] = 1\n",
    "                else:\n",
    "                    used_programme[output_position] = 0\n",
    "            elif oc == 8:\n",
    "                if par_a == par_b:\n",
    "                    used_programme[output_position] = 1\n",
    "                else:\n",
    "                    used_programme[output_position] = 0\n",
    "                \n",
    "    # parameter operations iwth leading 1 and 11\n",
    "    elif initiator > 1000:\n",
    "        oc = int(str(initiator)[-2:])\n",
    "        pi = int(str(initiator)[:-2])\n",
    "        output_position = used_programme[iterator+3]\n",
    "        \n",
    "        if pi == 11:\n",
    "            par_a = used_programme[iterator+1]\n",
    "            par_b = used_programme[iterator+2]\n",
    "            \n",
    "        elif pi == 10:\n",
    "            par_a = used_programme[used_programme[iterator+1]]\n",
    "            par_b = used_programme[iterator+2]\n",
    "            \n",
    "        elif pi == 1:\n",
    "            par_a = used_programme[iterator+1]\n",
    "            par_b = used_programme[used_programme[iterator+2]]\n",
    "            \n",
    "        elif pi == 0:\n",
    "            par_a = used_programme[used_programme[iterator+1]]\n",
    "            par_b = used_programme[used_programme[iterator+2]]\n",
    "        \n",
    "        # make calculation\n",
    "        if oc == 1:\n",
    "            step = 4\n",
    "            used_programme[output_position] = par_a + par_b\n",
    "        elif oc == 2:\n",
    "            step = 4\n",
    "            used_programme[output_position] = par_a * par_b\n",
    "        elif oc == 5:\n",
    "            step = 3\n",
    "            if par_a != 0:\n",
    "                iterator = par_b\n",
    "                continue\n",
    "        elif oc == 6:\n",
    "            step = 3\n",
    "            if par_a == 0:\n",
    "                iterator = par_b\n",
    "                continue\n",
    "        elif oc == 7:\n",
    "            step = 4\n",
    "            if par_a < par_b:\n",
    "                used_programme[output_position] = 1\n",
    "            else:\n",
    "                used_programme[output_position] = 0\n",
    "        elif oc == 8:\n",
    "            step = 4\n",
    "            if par_a == par_b:\n",
    "                used_programme[output_position] = 1\n",
    "            else:\n",
    "                used_programme[output_position] = 0\n",
    "                \n",
    "    iterator += step"
   ]
  },
  {
   "cell_type": "markdown",
   "metadata": {},
   "source": [
    "## Alternative strategy, not working yet"
   ]
  },
  {
   "cell_type": "code",
   "execution_count": 253,
   "metadata": {
    "ExecuteTime": {
     "end_time": "2019-12-05T12:15:12.375628Z",
     "start_time": "2019-12-05T12:15:12.368647Z"
    }
   },
   "outputs": [],
   "source": [
    "def get_instructions(initiator):\n",
    "    initiator_txt = str(initiator)\n",
    "    operation_set = (5-len(initiator_txt))*\"0\"+initiator_txt\n",
    "    \n",
    "    opcode = int(operation_set[-2:])\n",
    "\n",
    "    par_a_instruction = int(operation_set[:-2][::-1][0])\n",
    "    par_b_instruction = int(operation_set[:-2][::-1][1])\n",
    "    par_c_instruction = int(operation_set[:-2][::-1][2])\n",
    "    \n",
    "    return opcode, par_a_instruction, par_b_instruction, par_c_instruction"
   ]
  },
  {
   "cell_type": "code",
   "execution_count": 263,
   "metadata": {
    "ExecuteTime": {
     "end_time": "2019-12-05T12:27:32.270419Z",
     "start_time": "2019-12-05T12:27:32.264436Z"
    }
   },
   "outputs": [
    {
     "data": {
      "text/plain": [
       "(5, 1, 1, 0)"
      ]
     },
     "execution_count": 263,
     "metadata": {},
     "output_type": "execute_result"
    }
   ],
   "source": [
    "get_instructions(1105)"
   ]
  },
  {
   "cell_type": "code",
   "execution_count": 259,
   "metadata": {
    "ExecuteTime": {
     "end_time": "2019-12-05T12:23:41.921158Z",
     "start_time": "2019-12-05T12:23:35.632845Z"
    }
   },
   "outputs": [
    {
     "name": "stdout",
     "output_type": "stream",
     "text": [
      "---------------------------------\n",
      "iterator jumps to position 0\n",
      "   and finds initiator-value 3\n",
      "finds this operation set:  3 0 0\n",
      "finds these parameters:  0 225 225\n",
      "Please enter a value 5\n",
      "jumps another 2 steps.\n",
      "---------------------------------\n",
      "iterator jumps to position 2\n",
      "   and finds initiator-value 1\n",
      "finds this operation set:  1 0 0\n",
      "finds these parameters:  0 1100 6\n",
      "jumps another 4 steps.\n",
      "---------------------------------\n",
      "iterator jumps to position 6\n",
      "   and finds initiator-value 1100\n",
      "finds this operation set:  0 1 1\n",
      "finds these parameters:  1 238 225\n",
      "0 is not supported.\n",
      "jumps another None steps.\n"
     ]
    },
    {
     "ename": "TypeError",
     "evalue": "unsupported operand type(s) for +=: 'int' and 'NoneType'",
     "output_type": "error",
     "traceback": [
      "\u001b[1;31m---------------------------------------------------------------------------\u001b[0m",
      "\u001b[1;31mTypeError\u001b[0m                                 Traceback (most recent call last)",
      "\u001b[1;32m<ipython-input-259-6d3a13251148>\u001b[0m in \u001b[0;36m<module>\u001b[1;34m\u001b[0m\n\u001b[0;32m     90\u001b[0m     \u001b[0mstep\u001b[0m \u001b[1;33m=\u001b[0m \u001b[1;33m[\u001b[0m\u001b[1;32mNone\u001b[0m\u001b[1;33m,\u001b[0m\u001b[1;36m4\u001b[0m\u001b[1;33m,\u001b[0m\u001b[1;36m4\u001b[0m\u001b[1;33m,\u001b[0m\u001b[1;36m2\u001b[0m\u001b[1;33m,\u001b[0m\u001b[1;36m2\u001b[0m\u001b[1;33m,\u001b[0m\u001b[1;36m3\u001b[0m\u001b[1;33m,\u001b[0m\u001b[1;36m3\u001b[0m\u001b[1;33m,\u001b[0m\u001b[1;36m4\u001b[0m\u001b[1;33m,\u001b[0m\u001b[1;36m4\u001b[0m\u001b[1;33m]\u001b[0m\u001b[1;33m\u001b[0m\u001b[1;33m\u001b[0m\u001b[0m\n\u001b[0;32m     91\u001b[0m     \u001b[0mprint\u001b[0m\u001b[1;33m(\u001b[0m\u001b[1;34m\"jumps another {} steps.\"\u001b[0m\u001b[1;33m.\u001b[0m\u001b[0mformat\u001b[0m\u001b[1;33m(\u001b[0m\u001b[0mstr\u001b[0m\u001b[1;33m(\u001b[0m\u001b[0mstep\u001b[0m\u001b[1;33m[\u001b[0m\u001b[0mopcode\u001b[0m\u001b[1;33m]\u001b[0m\u001b[1;33m)\u001b[0m\u001b[1;33m)\u001b[0m\u001b[1;33m)\u001b[0m\u001b[1;33m\u001b[0m\u001b[1;33m\u001b[0m\u001b[0m\n\u001b[1;32m---> 92\u001b[1;33m     \u001b[0miterator\u001b[0m \u001b[1;33m+=\u001b[0m \u001b[0mstep\u001b[0m\u001b[1;33m[\u001b[0m\u001b[0mopcode\u001b[0m\u001b[1;33m]\u001b[0m\u001b[1;33m\u001b[0m\u001b[1;33m\u001b[0m\u001b[0m\n\u001b[0m",
      "\u001b[1;31mTypeError\u001b[0m: unsupported operand type(s) for +=: 'int' and 'NoneType'"
     ]
    }
   ],
   "source": [
    "iterator = 0\n",
    "used_programme = input_list.copy()\n",
    "\n",
    "while True:\n",
    "    \n",
    "    print(\"---------------------------------\")\n",
    "    print(\"iterator jumps to position \" + str(iterator))\n",
    "    print(\"   and finds initiator-value \" + str(used_programme[iterator]))\n",
    "\n",
    "    # get operation set from current iterator position\n",
    "    operation_set = get_instructions(used_programme[iterator])\n",
    "    \n",
    "    # get single instructions from operation set\n",
    "    opcode = operation_set[0]\n",
    "    par_a_instruction = operation_set[1]\n",
    "    par_b_instruction = operation_set[2]\n",
    "    par_c_instruction = operation_set[3]\n",
    "\n",
    "    print(\"finds this operation set: \", opcode, par_a_instruction, par_b_instruction)\n",
    "    \n",
    "    # break programme if opcode is 99\n",
    "    if opcode == 99:\n",
    "        print(\"Halt at iterator \" + str(iterator))\n",
    "        break\n",
    "\n",
    "    # Get first parameter\n",
    "    par_a = used_programme[iterator+1]\n",
    "    if par_a_instruction == 0:\n",
    "        par_a = used_programme[par_a]\n",
    "\n",
    "    # Get second parameter\n",
    "    par_b = used_programme[iterator+2]\n",
    "    if par_b_instruction == 0:\n",
    "        par_b = used_programme[par_b]\n",
    "        \n",
    "    # Get third parameter\n",
    "    # this is always the storage position\n",
    "    par_c = used_programme[iterator+3]\n",
    "    \n",
    "    print(\"finds these parameters: \", par_a, par_b, par_c)\n",
    "\n",
    "    # #######################################################\n",
    "    # Actual operations comming here\n",
    "    # #######################################################\n",
    "\n",
    "    if opcode == 1:\n",
    "        used_programme[par_c] = par_a + par_b\n",
    "        \n",
    "    elif opcode == 2:\n",
    "        used_programme[par_c] = par_a * par_b\n",
    "        \n",
    "    elif opcode == 3:\n",
    "        input_value = int(input(\"Please enter a value \"))\n",
    "        used_programme[par_a] = input_value\n",
    "        \n",
    "    elif opcode == 4:\n",
    "        print(\"Test value is \" + str(used_programme[par_a]))\n",
    "        \n",
    "    elif opcode == 5:\n",
    "        if par_a != 0:\n",
    "            iterator = par_b\n",
    "            print(\"Directly to next itertation \" + str(iterator))\n",
    "            continue\n",
    "\n",
    "    elif opcode == 6:\n",
    "        if par_a == 0:\n",
    "            iterator = par_b\n",
    "            print(\"Directly to next itertation \" + str(iterator))\n",
    "            continue \n",
    "\n",
    "    elif opcode == 7:\n",
    "        if par_a < par_b:\n",
    "            used_programme[par_c] = 1\n",
    "        else:\n",
    "            used_programme[par_c] = 0\n",
    "    \n",
    "    elif opcode == 8:\n",
    "        if par_a == par_b:\n",
    "            used_programme[par_c] = 1\n",
    "        else:\n",
    "            used_programme[par_c] = 0\n",
    "    \n",
    "    else:\n",
    "        print(str(opcode) + \" is not supported.\")\n",
    "\n",
    "    # #######################################################\n",
    "    # iterator is incremented here\n",
    "    # #######################################################\n",
    "    \n",
    "    step = [None,4,4,2,2,3,3,4,4]\n",
    "    print(\"jumps another {} steps.\".format(str(step[opcode])))\n",
    "    iterator += step[opcode]"
   ]
  },
  {
   "cell_type": "code",
   "execution_count": 251,
   "metadata": {
    "ExecuteTime": {
     "end_time": "2019-12-05T12:12:13.485268Z",
     "start_time": "2019-12-05T12:12:13.478287Z"
    }
   },
   "outputs": [
    {
     "data": {
      "text/plain": [
       "(1, 231)"
      ]
     },
     "execution_count": 251,
     "metadata": {},
     "output_type": "execute_result"
    }
   ],
   "source": [
    "used_programme[225], used_programme[6]"
   ]
  },
  {
   "cell_type": "code",
   "execution_count": 239,
   "metadata": {
    "ExecuteTime": {
     "end_time": "2019-12-05T10:55:41.667152Z",
     "start_time": "2019-12-05T10:55:41.658175Z"
    }
   },
   "outputs": [
    {
     "data": {
      "text/plain": [
       "4"
      ]
     },
     "execution_count": 239,
     "metadata": {},
     "output_type": "execute_result"
    }
   ],
   "source": [
    "opcode = 1\n",
    "iterator = 0\n",
    "step = [None,4,4,2,2,3,3,4,4]\n",
    "iterator += step[opcode]\n",
    "iterator"
   ]
  }
 ],
 "metadata": {
  "kernelspec": {
   "display_name": "Python 3",
   "language": "python",
   "name": "python3"
  },
  "language_info": {
   "codemirror_mode": {
    "name": "ipython",
    "version": 3
   },
   "file_extension": ".py",
   "mimetype": "text/x-python",
   "name": "python",
   "nbconvert_exporter": "python",
   "pygments_lexer": "ipython3",
   "version": "3.6.6"
  }
 },
 "nbformat": 4,
 "nbformat_minor": 2
}