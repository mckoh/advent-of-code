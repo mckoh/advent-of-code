{
 "cells": [
  {
   "cell_type": "code",
   "execution_count": 1,
   "metadata": {
    "ExecuteTime": {
     "end_time": "2019-12-11T13:08:08.915937Z",
     "start_time": "2019-12-11T13:08:04.671934Z"
    }
   },
   "outputs": [],
   "source": [
    "import aocd\n",
    "\n",
    "year = 2019\n",
    "day = 11\n",
    "session = \"53616c7465645f5fa70ecfc69d63cbef5957a69191424c1c4714cb2975e311712a4a51ef020f37be0182e66098226b71\""
   ]
  },
  {
   "cell_type": "code",
   "execution_count": 34,
   "metadata": {
    "ExecuteTime": {
     "end_time": "2019-12-11T15:58:16.549465Z",
     "start_time": "2019-12-11T15:58:16.404017Z"
    }
   },
   "outputs": [],
   "source": [
    "import operator\n",
    "from itertools import chain, cycle, permutations\n",
    "from collections import deque, defaultdict\n",
    "\n",
    "class Intcode:\n",
    "    ops = {1: operator.add,\n",
    "           2: operator.mul,\n",
    "           3: 'in',\n",
    "           4: 'out',\n",
    "           5: 'jmpif',\n",
    "           6: 'jmpifn',\n",
    "           7: lambda i,j: int(i < j),\n",
    "           8: lambda i,j: int(i == j),\n",
    "           9: 'rebase',\n",
    "           99: None,  # signal exit\n",
    "           }\n",
    "\n",
    "    def __init__(self, src, inputs=None):\n",
    "        self.src = defaultdict(int)\n",
    "        self.src.update(enumerate(src))\n",
    "        self.ip = 0\n",
    "        self.base = 0\n",
    "        self.pipe = None  # potential instance to pipe output into\n",
    "        if not inputs:\n",
    "            inputs = deque([])\n",
    "        self.inputs = deque(inputs)\n",
    "        self.outputs = []\n",
    "        self.last_op = None\n",
    "\n",
    "    def pipe_into(self, other):\n",
    "        self.pipe = other\n",
    "\n",
    "    @staticmethod\n",
    "    def modes_from_op(opval):\n",
    "        \"\"\"Decode parameter modes into binary ints\"\"\"\n",
    "        parammodes = chain(map(int, reversed(str(opval//100))), cycle([0])) # 1 for value, 0 for pointer\n",
    "        return parammodes\n",
    "\n",
    "    def step(self):\n",
    "        \"\"\"Take a step in the intcode program\"\"\"\n",
    "        src = self.src\n",
    "        ip = self.ip\n",
    "    \n",
    "        opval = src[ip]\n",
    "    \n",
    "        opcode = opval % 100\n",
    "        if opcode == 99:\n",
    "            n_inps = 0\n",
    "            n_outs = 0\n",
    "        elif opcode in [1, 2]:\n",
    "            n_inps = 2\n",
    "            n_outs = 1\n",
    "        elif opcode == 3:\n",
    "            n_inps = 0\n",
    "            n_outs = 1\n",
    "        elif opcode == 4:\n",
    "            n_inps = 1\n",
    "            n_outs = 0\n",
    "        elif opcode in [5, 6]:\n",
    "            n_inps = 2\n",
    "            n_outs = 0\n",
    "        elif opcode in [7, 8]:\n",
    "            n_inps = 2\n",
    "            n_outs = 1\n",
    "        elif opcode == 9:\n",
    "            n_inps = 1\n",
    "            n_outs = 0\n",
    "        else:\n",
    "            assert False, f'Invalid opcode {opcode} at position {i}!'\n",
    "    \n",
    "        op = self.ops.get(opcode, -1)\n",
    "        assert op != -1, f'Need to implement more operations in ops dict!'\n",
    "\n",
    "        self.last_op = op\n",
    "    \n",
    "        parammodes = self.modes_from_op(opval)\n",
    "        params = []\n",
    "        for k,mode in zip(range(ip + 1, ip + 1 + n_inps), parammodes):\n",
    "            if mode == 0:\n",
    "                index = src[k]\n",
    "            elif mode == 1:\n",
    "                index = k\n",
    "            elif mode == 2:\n",
    "                index = self.base + src[k]\n",
    "            else:\n",
    "                assert False, f'Invalid parameter mode {mode}!'\n",
    "            assert index >= 0, f'Invalid input index {index}!'\n",
    "\n",
    "            param = src[index]\n",
    "            params.append(param)\n",
    "\n",
    "        if n_outs:\n",
    "            output_mode = next(parammodes)\n",
    "            if output_mode == 0:\n",
    "                ip_out = src[ip + 1 + n_inps]\n",
    "            elif output_mode == 2:\n",
    "                ip_out = self.base + src[ip + 1 + n_inps]\n",
    "            else:\n",
    "                assert False, 'What does output_mode == 1 mean?'\n",
    "\n",
    "            assert ip_out >= 0, f'Invalid output index {ip_out}!'\n",
    "        else:\n",
    "            ip_out = None\n",
    "\n",
    "        # handle \"input\"\n",
    "        if op == \"in\":\n",
    "            src[ip_out] = self.inputs.popleft()\n",
    "\n",
    "        # handle relative base offset\n",
    "        if op == 'rebase':\n",
    "            offset = params[0]\n",
    "            self.base += offset\n",
    "\n",
    "        # handle jumps, increment intruction pointer\n",
    "        if (op == 'jmpif' and params[0]) or (op == 'jmpifn' and not params[0]):\n",
    "            self.ip = params[1]\n",
    "        else:\n",
    "            self.ip += 1 + n_inps + n_outs\n",
    "    \n",
    "        # handle \"output\"\n",
    "        if op == \"out\":\n",
    "            # value is params[0]\n",
    "            res = params[0]\n",
    "            self.outputs.append(res)\n",
    "            if self.pipe:\n",
    "                self.pipe.inputs.append(res)\n",
    "    \n",
    "        # compute values for callables\n",
    "        if callable(op):\n",
    "            src[ip_out] = op(*params)\n",
    "\n",
    "        return\n",
    "\n",
    "def simulate(src, part1=True):\n",
    "    instance = Intcode(src)\n",
    "    board = defaultdict(int)\n",
    "    pos = (0, 0)\n",
    "    dir = (-1, 0)\n",
    "\n",
    "    if not part1:\n",
    "        board[pos] = 1\n",
    "\n",
    "    while True:\n",
    "        # loop over pixels\n",
    "        instance.inputs.append(board[pos])\n",
    "\n",
    "        # loop over instruction steps until two outputs or exit\n",
    "        while len(instance.outputs) < 2:\n",
    "            instance.step()\n",
    "\n",
    "            if instance.last_op is None:\n",
    "                # we're done\n",
    "                if part1:\n",
    "                    # return colored pixels\n",
    "                    return len(board)\n",
    "                else:\n",
    "                    # return picture\n",
    "                    print_picture(board)\n",
    "                    return\n",
    "\n",
    "        pixel, dirval = instance.outputs\n",
    "        instance.outputs.clear()\n",
    "\n",
    "        board[pos] = pixel  # paint\n",
    "        dir = (dir[1], -dir[0]) if dirval else (-dir[1], dir[0])  # rotate\n",
    "        pos = pos[0] + dir[0], pos[1] + dir[1]  # step\n",
    "\n",
    "def print_picture(board):\n",
    "    minx = min(board, key=operator.itemgetter(0))[0]\n",
    "    maxx = max(board, key=operator.itemgetter(0))[0]\n",
    "    miny = min(board, key=operator.itemgetter(1))[1]\n",
    "    maxy = max(board, key=operator.itemgetter(1))[1]\n",
    "    print('\\n'.join([''.join(['█' if board[i,j] else ' ' for j in range(miny, maxy + 1)]) for i in range(minx, maxx + 1)]))\n",
    "\n",
    "def day11(inp):\n",
    "    src = list(map(int, inp.strip().split(',')))\n",
    "\n",
    "    part1 = simulate(src)-1\n",
    "    simulate(src, part1=False)\n",
    "\n",
    "    return part1    "
   ]
  },
  {
   "cell_type": "code",
   "execution_count": 30,
   "metadata": {
    "ExecuteTime": {
     "end_time": "2019-12-11T15:55:58.300108Z",
     "start_time": "2019-12-11T15:55:58.284389Z"
    }
   },
   "outputs": [],
   "source": [
    "data = aocd.get_data(day=day, year=year, session=session)"
   ]
  },
  {
   "cell_type": "code",
   "execution_count": 35,
   "metadata": {
    "ExecuteTime": {
     "end_time": "2019-12-11T15:58:20.043471Z",
     "start_time": "2019-12-11T15:58:18.687574Z"
    }
   },
   "outputs": [
    {
     "name": "stdout",
     "output_type": "stream",
     "text": [
      " █  █   ██ █  █   ██ █  █  ██  ███  █  █   \n",
      " █  █    █ █ █     █ █ █  █  █ █  █ █  █   \n",
      " ████    █ ██      █ ██   █    █  █ ████   \n",
      " █  █    █ █ █     █ █ █  █ ██ ███  █  █   \n",
      " █  █ █  █ █ █  █  █ █ █  █  █ █    █  █   \n",
      " █  █  ██  █  █  ██  █  █  ███ █    █  █   \n"
     ]
    },
    {
     "data": {
      "text/plain": [
       "2511"
      ]
     },
     "execution_count": 35,
     "metadata": {},
     "output_type": "execute_result"
    }
   ],
   "source": [
    "day11(data)"
   ]
  },
  {
   "cell_type": "code",
   "execution_count": 36,
   "metadata": {
    "ExecuteTime": {
     "end_time": "2019-12-11T15:59:01.772623Z",
     "start_time": "2019-12-11T15:59:00.085242Z"
    }
   },
   "outputs": [
    {
     "name": "stderr",
     "output_type": "stream",
     "text": [
      "answer a: 2511\n",
      "submitting for part b (part a is already completed)\n"
     ]
    },
    {
     "name": "stdout",
     "output_type": "stream",
     "text": [
      "That's the right answer!  You are one gold star closer to rescuing Santa.You have completed Day 11! You can [Shareon\n",
      "  Twitter\n",
      "Mastodon] this victory or [Return to Your Advent Calendar].\n"
     ]
    },
    {
     "data": {
      "text/plain": [
       "<Response [200]>"
      ]
     },
     "execution_count": 36,
     "metadata": {},
     "output_type": "execute_result"
    }
   ],
   "source": [
    "aocd.submit(\"HJKJKGPH\")"
   ]
  }
 ],
 "metadata": {
  "kernelspec": {
   "display_name": "Python 3",
   "language": "python",
   "name": "python3"
  },
  "language_info": {
   "codemirror_mode": {
    "name": "ipython",
    "version": 3
   },
   "file_extension": ".py",
   "mimetype": "text/x-python",
   "name": "python",
   "nbconvert_exporter": "python",
   "pygments_lexer": "ipython3",
   "version": "3.6.6"
  }
 },
 "nbformat": 4,
 "nbformat_minor": 2
}
