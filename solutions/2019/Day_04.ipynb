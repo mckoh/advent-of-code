{
 "cells": [
  {
   "cell_type": "markdown",
   "metadata": {},
   "source": [
    "# Day 04 Challenge"
   ]
  },
  {
   "cell_type": "code",
   "execution_count": 43,
   "metadata": {
    "ExecuteTime": {
     "end_time": "2019-12-04T05:58:07.722439Z",
     "start_time": "2019-12-04T05:58:07.706650Z"
    }
   },
   "outputs": [],
   "source": [
    "# some test values\n",
    "test = [112233, 123444, 111122]"
   ]
  },
  {
   "cell_type": "code",
   "execution_count": 87,
   "metadata": {
    "ExecuteTime": {
     "end_time": "2019-12-04T06:25:13.164239Z",
     "start_time": "2019-12-04T06:25:13.117164Z"
    }
   },
   "outputs": [],
   "source": [
    "def check_decrease(value):\n",
    "    switch = True\n",
    "    for i in range(1, len(value)):\n",
    "        if not int(value[i-1]) <= int(value[i]):\n",
    "            switch = False\n",
    "            break\n",
    "    return switch\n",
    "\n",
    "\n",
    "def check_double(value):\n",
    "    switch = False\n",
    "    for i in range(1, len(value)):\n",
    "        if int(value[i-1]) == int(value[i]):\n",
    "            \n",
    "            switch = True\n",
    "            break\n",
    "    return switch\n",
    "\n",
    "def check_double(value):\n",
    "    switch = False\n",
    "    for i in range(1, len(value)):\n",
    "\n",
    "        if i == 1:\n",
    "            if int(value[i-1]) == int(value[i]):\n",
    "                if int(value[i]) != int(value[i+1]):\n",
    "                    switch = True\n",
    "                    #print(value[i-1], value[i], value[i+1], switch)\n",
    "                    break\n",
    "        \n",
    "        if i > 1 and i < 5:\n",
    "            if int(value[i-1]) == int(value[i]):\n",
    "                if int(value[i-2]) != int(value[i]):\n",
    "                    if int(value[i]) != int(value[i+1]):\n",
    "                        switch = True\n",
    "                        #print(value[i-2], value[i-1], value[i], value[i+1], switch)\n",
    "                        break\n",
    "\n",
    "        if i == 5:\n",
    "            if int(value[i-1]) == int(value[i]):\n",
    "                if int(value[i-2]) != int(value[i]):\n",
    "                    switch = True\n",
    "                    #print(value[i-2], value[i-1], value[i], switch)\n",
    "                    break\n",
    "\n",
    "    return switch"
   ]
  },
  {
   "cell_type": "markdown",
   "metadata": {},
   "source": [
    "## Part One"
   ]
  },
  {
   "cell_type": "code",
   "execution_count": 33,
   "metadata": {
    "ExecuteTime": {
     "end_time": "2019-12-04T05:44:09.704905Z",
     "start_time": "2019-12-04T05:44:04.812064Z"
    }
   },
   "outputs": [
    {
     "data": {
      "text/plain": [
       "1748"
      ]
     },
     "execution_count": 33,
     "metadata": {},
     "output_type": "execute_result"
    }
   ],
   "source": [
    "counter = 0\n",
    "for element in range(146810,612564+1):\n",
    "    element = str(element)\n",
    "    check_a = check_decrease(element)\n",
    "    check_b = check_double(element)\n",
    "    if check_a and check_b:\n",
    "        counter += 1\n",
    "counter"
   ]
  },
  {
   "cell_type": "markdown",
   "metadata": {},
   "source": [
    "## Part Two"
   ]
  },
  {
   "cell_type": "code",
   "execution_count": 90,
   "metadata": {
    "ExecuteTime": {
     "end_time": "2019-12-04T06:26:54.242996Z",
     "start_time": "2019-12-04T06:26:47.483619Z"
    }
   },
   "outputs": [
    {
     "data": {
      "text/plain": [
       "1180"
      ]
     },
     "execution_count": 90,
     "metadata": {},
     "output_type": "execute_result"
    }
   ],
   "source": [
    "counter = 0\n",
    "for element in range(146810,612564+1):\n",
    "    element = str(element)\n",
    "    check_a = check_decrease(element)\n",
    "    check_b = check_double(element)\n",
    "    if check_a and check_b:\n",
    "        counter += 1\n",
    "counter"
   ]
  }
 ],
 "metadata": {
  "kernelspec": {
   "display_name": "Python 3",
   "language": "python",
   "name": "python3"
  },
  "language_info": {
   "codemirror_mode": {
    "name": "ipython",
    "version": 3
   },
   "file_extension": ".py",
   "mimetype": "text/x-python",
   "name": "python",
   "nbconvert_exporter": "python",
   "pygments_lexer": "ipython3",
   "version": "3.6.6"
  }
 },
 "nbformat": 4,
 "nbformat_minor": 2
}