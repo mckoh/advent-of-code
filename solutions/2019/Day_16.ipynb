{
 "cells": [
  {
   "cell_type": "markdown",
   "metadata": {},
   "source": [
    "# Day 12 Challenge"
   ]
  },
  {
   "cell_type": "code",
   "execution_count": 5,
   "metadata": {
    "ExecuteTime": {
     "end_time": "2019-12-17T07:38:04.016988Z",
     "start_time": "2019-12-17T07:38:00.440634Z"
    }
   },
   "outputs": [],
   "source": [
    "import aocd\n",
    "import numpy as np\n",
    "import datetime\n",
    "from math import ceil\n",
    "from numpy import abs"
   ]
  },
  {
   "cell_type": "code",
   "execution_count": 143,
   "metadata": {
    "ExecuteTime": {
     "end_time": "2019-12-17T09:36:19.267026Z",
     "start_time": "2019-12-17T09:36:19.238026Z"
    }
   },
   "outputs": [],
   "source": [
    "def convert(list): \n",
    "    res = \"\".join(map(str, list))\n",
    "    return res \n",
    "\n",
    "\n",
    "class Decoder:\n",
    "    \n",
    "    def __init__(self, input_signal, pattern=[0,1,0,-1], signal_multiplikator=2):\n",
    "        \n",
    "        self._base_signal = list(map(int, list(input_signal*signal_multiplikator)))\n",
    "        self._input_signal = list(map(int, list(input_signal*signal_multiplikator)))\n",
    "        self._base_pattern = pattern\n",
    "        \n",
    "        self._input_offset = int(input_signal[:7])\n",
    "        \n",
    "        self._input_signal_length = len(self._input_signal)\n",
    "        \n",
    "        self._walk_path = []\n",
    "    \n",
    "    def get_pattern(self, multiplikator):\n",
    "        \n",
    "        pl = len(self._base_pattern)\n",
    "        sl = len(self._input_signal)\n",
    "        \n",
    "        # start with an empty pattern\n",
    "        pattern = []\n",
    "        \n",
    "        # negative or zero multiplikator is not possible\n",
    "        assert multiplikator > 0, f\"Multiplikator must be positive but was {multiplikator}.\"\n",
    "        \n",
    "        # take base pattern items\n",
    "        for item in self._base_pattern * (ceil(sl/pl/multiplikator)+1):\n",
    "            \n",
    "            # use item n times (depending on multiplikator)\n",
    "            for i in range(multiplikator):\n",
    "                if len(pattern) <= len(self._input_signal)+1:\n",
    "                    pattern.append(item)\n",
    "        \n",
    "        # return pattern but omit first item\n",
    "        return pattern[1:]\n",
    "    \n",
    "    \n",
    "    def step(self):\n",
    "        \n",
    "        step_output_list = []\n",
    "        \n",
    "        # make as many iterations as needed\n",
    "        for iteration in range(1, self._input_signal_length+1):\n",
    "            \n",
    "            # get the pattern for this iteration\n",
    "            pattern = self.get_pattern(iteration)\n",
    "            \n",
    "            i = 0\n",
    "            \n",
    "            iteration_sum = 0\n",
    "            \n",
    "            for i in range(len(self._input_signal)):\n",
    "                iteration_sum += self._input_signal[i] * pattern[i]\n",
    "            \n",
    "            # write iteration sum to list\n",
    "            step_output_list.append(int(str(iteration_sum)[-1]))\n",
    "        return convert(step_output_list)\n",
    "\n",
    "    \n",
    "    def walk(self, iterations=100):\n",
    "        for i in range(iterations):\n",
    "            self._input_signal = list(map(int, list(self.step())))\n",
    "            \n",
    "    def get_result(self, part=1):\n",
    "        if part == 1:\n",
    "            return int(convert(self._input_signal[:8]))\n",
    "        elif part == 2:\n",
    "            return int(convert(self._input_signal[int(self._input_offset):int(self._input_offset+8)]))"
   ]
  },
  {
   "cell_type": "markdown",
   "metadata": {},
   "source": [
    "## Testing"
   ]
  },
  {
   "cell_type": "code",
   "execution_count": null,
   "metadata": {
    "ExecuteTime": {
     "end_time": "2019-12-17T09:39:23.943862Z",
     "start_time": "2019-12-17T09:37:12.236Z"
    }
   },
   "outputs": [],
   "source": [
    "data = \"03036732577212944063491565474664\"\n",
    "dec = Decoder(input_signal=data, signal_multiplikator=10000)\n",
    "dec._input_offset\n",
    "dec.walk(100)\n",
    "dec.get_result(part = 2)"
   ]
  },
  {
   "cell_type": "markdown",
   "metadata": {},
   "source": [
    "## Part 1"
   ]
  },
  {
   "cell_type": "code",
   "execution_count": 146,
   "metadata": {
    "ExecuteTime": {
     "end_time": "2019-12-17T09:39:29.788004Z",
     "start_time": "2019-12-17T09:39:29.781007Z"
    }
   },
   "outputs": [],
   "source": [
    "session:str = \"53616c7465645f5f5d64e0f6b2811f4d18eb862dae5aa906e4d25c0f6a1d5944c89433699f1b1175fdea140e981da4a5\"\n",
    "day = 16\n",
    "year = 2019\n",
    "data = aocd.get_data(session=session, year=year, day=day)\n",
    "\n",
    "#dec = Decoder(input_signal=data, sig)\n",
    "#dec.walk(100)\n",
    "#dec.get_result()"
   ]
  },
  {
   "cell_type": "markdown",
   "metadata": {},
   "source": [
    "## Part 2"
   ]
  },
  {
   "cell_type": "code",
   "execution_count": 147,
   "metadata": {
    "ExecuteTime": {
     "end_time": "2019-12-17T09:39:43.826765Z",
     "start_time": "2019-12-17T09:39:38.390454Z"
    }
   },
   "outputs": [
    {
     "name": "stdout",
     "output_type": "stream",
     "text": [
      "19903864\n"
     ]
    }
   ],
   "source": [
    "from itertools import cycle, repeat, islice, count\n",
    "from functools import partial,lru_cache\n",
    "import numpy as np\n",
    "\n",
    "# part1-2 numpy, too slow for part 2:\n",
    "def day16(inp, phases=100):\n",
    "    init = np.array(list(map(int, inp.strip())))\n",
    "    dat = init\n",
    "    ran = np.arange(dat.size)\n",
    "\n",
    "    for phase in range(phases):\n",
    "        out = np.empty_like(dat)\n",
    "        for i in range(dat.size):\n",
    "            # [0, 1, 0, -1]: ones = [1] + k*4 -> shift -1: [0] + k*4\n",
    "            # [0, 0, 1, 1, 0, 0, -1, -1]: ones = [2, 3] + k*8 -> shift -1: [1, 2] + k*8\n",
    "            # [0, 0, 0, 1, 1, 1, 0, 0, 0, -1, -1, -1]: ones = [3, 4, 5] + k*16 -> shift -1: [2, 3, 4] + k*12\n",
    "            # [0, 0, 0, 0, 1, 1, 1, 1, 0, 0, 0, 0, -1, -1, -1, -1]: ones = [4, 5, 6, 7] + k*16 -> shift -1: [3, 4, 5, 6] + k*16\n",
    "            #\n",
    "            # [0, 1, 0, -1]: minusones = [3] + k*4 -> shift -1: [2] + k*4\n",
    "            # [0, 0, 1, 1, 0, 0, -1, -1]: minusones = [6, 7] + k*8 -> shift -1: [5, 6] + k*8\n",
    "            # [0, 0, 0, 1, 1, 1, 0, 0, 0, -1, -1, -1]: minusones = [9, 10, 11] + k*16 -> shift -1: [8, 9, 10] + k*12\n",
    "\n",
    "            ranmod = ran % (4*(i+1))\n",
    "            ones = (i <= ranmod) & (ranmod <= 2*i)\n",
    "            minusones = (3*(i+1) - 1 <= ranmod) & (ranmod <= 4*(i+1) - 2)\n",
    "            out[i] = abs(dat[ones].sum() - dat[minusones].sum()) % 10\n",
    "        dat = out\n",
    "\n",
    "    res = ''.join(map(str, out[:8]))\n",
    "\n",
    "    return res\n",
    "\n",
    "def day16b(inp, phases=100):\n",
    "    init = np.array(list(map(int, inp.strip())))\n",
    "    dat = np.tile(init, 10000)\n",
    "\n",
    "    # assume that the requested bits are always in the tail\n",
    "    # where the mapping matrix is trivial (upper triangular with full ones)\n",
    "    offset = int(''.join(map(str, init[:7])))\n",
    "    half = dat.size//2\n",
    "    assert offset >= half\n",
    "\n",
    "    for phase in range(phases):\n",
    "        out = np.empty_like(dat)\n",
    "        out[-1:half-1:-1] = abs(dat[-1:half-1:-1].cumsum()) % 10\n",
    "        dat = out\n",
    "\n",
    "    res = ''.join(map(str, out[offset:offset+8]))\n",
    "\n",
    "    return res\n",
    "\n",
    "print(day16b(data))"
   ]
  }
 ],
 "metadata": {
  "kernelspec": {
   "display_name": "Python 3",
   "language": "python",
   "name": "python3"
  },
  "language_info": {
   "codemirror_mode": {
    "name": "ipython",
    "version": 3
   },
   "file_extension": ".py",
   "mimetype": "text/x-python",
   "name": "python",
   "nbconvert_exporter": "python",
   "pygments_lexer": "ipython3",
   "version": "3.6.6"
  }
 },
 "nbformat": 4,
 "nbformat_minor": 2
}
